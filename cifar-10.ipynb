{
 "cells": [
  {
   "cell_type": "code",
   "execution_count": 256,
   "metadata": {},
   "outputs": [],
   "source": [
    "!activate tf_gpu"
   ]
  },
  {
   "cell_type": "code",
   "execution_count": 257,
   "metadata": {},
   "outputs": [],
   "source": [
    "from urllib.request import urlretrieve\n",
    "from os.path import isfile, isdir\n",
    "from tqdm import tqdm\n",
    "import tarfile"
   ]
  },
  {
   "cell_type": "code",
   "execution_count": 258,
   "metadata": {},
   "outputs": [],
   "source": [
    "cifar10FolderPath = 'cifar-10-batches-py'"
   ]
  },
  {
   "cell_type": "code",
   "execution_count": 259,
   "metadata": {},
   "outputs": [],
   "source": [
    "class DLProg(tqdm):\n",
    "    nthblock = 0\n",
    "    \n",
    "    def hook(self, block_num=1, block_size=1, total_size=None):\n",
    "        self.total = total_size\n",
    "        self.update((block_num - self.nthblock) * block_size)\n",
    "        self.nthblock = block_num"
   ]
  },
  {
   "cell_type": "code",
   "execution_count": 260,
   "metadata": {},
   "outputs": [],
   "source": [
    "# try not running this again lmao\n",
    "\n",
    "if not isfile('cifar-10-python.tar.gz'):\n",
    "    with DLProg(unit='B', unit_scale=True, miniters=1, desc='CIFAR-10 Dataset') as pbar:\n",
    "        urlretrieve('https://www.cs.toronto.edu/~kriz/cifar-10-python.tar.gz',\n",
    "                   'cifar-10-python.tar.gz',\n",
    "                   pbar.hook)\n",
    "        \n",
    "if not isdir(cifar10FolderPath):\n",
    "    with tarfile.open('cifar-10-python.tar.gz') as tar:\n",
    "        tar.extractall()\n",
    "        tar.close()"
   ]
  },
  {
   "cell_type": "code",
   "execution_count": 261,
   "metadata": {},
   "outputs": [],
   "source": [
    "import pickle\n",
    "import numpy as np\n",
    "import matplotlib.pyplot as plt"
   ]
  },
  {
   "cell_type": "code",
   "execution_count": 262,
   "metadata": {},
   "outputs": [],
   "source": [
    "lblnames = [\n",
    "    'airplane', 'automobile', 'bird', 'cat', 'deer', 'dog', 'frog',\n",
    "    'horse', 'ship', 'truck'\n",
    "]"
   ]
  },
  {
   "cell_type": "code",
   "execution_count": 263,
   "metadata": {},
   "outputs": [],
   "source": [
    "def cifar10_load_batch(cifar10FolderPath, batch_id):\n",
    "    with open(cifar10FolderPath + '/data_batch_' + str(batch_id), mode='rb') as file:\n",
    "        # note the encoding type is latin1\n",
    "        batch = pickle.load(file, encoding='latin1')\n",
    "        \n",
    "    features = batch['data'].reshape((len(batch['data']), 3, 32, 32)).transpose(0, 2, 3, 1)\n",
    "    lbls = batch['labels']\n",
    "    \n",
    "    return features, lbls"
   ]
  },
  {
   "cell_type": "code",
   "execution_count": 264,
   "metadata": {},
   "outputs": [],
   "source": [
    "def displaystats(cifar10FolderPath, batch_id, sample_id):\n",
    "    features, lbls = cifar10_load_batch(cifar10FolderPath, batch_id)\n",
    "    \n",
    "    if not (0 <= sample_id < len(features)):\n",
    "        print('{} samples in batch {}. {} is out of range.'.format(len(features), batch_id, sample_id))\n",
    "        return None\n",
    "    \n",
    "    print('\\nStats of batch #{}'.format(batch_id))\n",
    "    print('# of Samples: {}\\n'.format(len(features)))\n",
    "    \n",
    "#     lblnames = lblnames\n",
    "    lblcounts = dict(zip(*np.unique(lbls, return_counts=True)))\n",
    "    \n",
    "    for key, value in lblcounts.items():\n",
    "        print('Label Counts of [{}][{}]: {}'.format(key, lblnames[key].upper(), value))\n",
    "        \n",
    "    sampleimg = features[sample_id]\n",
    "    samplelbl = lbls[sample_id]\n",
    "    \n",
    "    print('\\nExample of Image {}:'.format(sample_id))\n",
    "    print('Image - Min Vallue: {} Max Value: {}'.format(sampleimg.min(), sampleimg.max()))\n",
    "    print('Image - Shape: {}'.format(sampleimg.shape))\n",
    "    print('Label - Label Id: {} Name: {}'.format(samplelbl, lblnames[samplelbl]))\n",
    "    \n",
    "    plt.imshow(sampleimg)"
   ]
  },
  {
   "cell_type": "code",
   "execution_count": 265,
   "metadata": {},
   "outputs": [
    {
     "name": "stdout",
     "output_type": "stream",
     "text": [
      "\n",
      "Stats of batch #3\n",
      "# of Samples: 10000\n",
      "\n",
      "Label Counts of [0][AIRPLANE]: 994\n",
      "Label Counts of [1][AUTOMOBILE]: 1042\n",
      "Label Counts of [2][BIRD]: 965\n",
      "Label Counts of [3][CAT]: 997\n",
      "Label Counts of [4][DEER]: 990\n",
      "Label Counts of [5][DOG]: 1029\n",
      "Label Counts of [6][FROG]: 978\n",
      "Label Counts of [7][HORSE]: 1015\n",
      "Label Counts of [8][SHIP]: 961\n",
      "Label Counts of [9][TRUCK]: 1029\n",
      "\n",
      "Example of Image 7000:\n",
      "Image - Min Vallue: 24 Max Value: 252\n",
      "Image - Shape: (32, 32, 3)\n",
      "Label - Label Id: 0 Name: airplane\n"
     ]
    },
    {
     "data": {
      "image/png": "[encoded data removed]",
      "text/plain": [
       "<Figure size 432x288 with 1 Axes>"
      ]
     },
     "metadata": {
      "image/png": {
       "height": 250,
       "width": 253
      },
      "needs_background": "light"
     },
     "output_type": "display_data"
    }
   ],
   "source": [
    "%matplotlib inline\n",
    "%config InlineBackend.figure_format = 'retina'\n",
    "\n",
    "import numpy as np\n",
    "\n",
    "# Explore the dataset\n",
    "batchid = 3\n",
    "sampleid = 7000\n",
    "displaystats(cifar10FolderPath, batchid, sampleid)"
   ]
  },
  {
   "cell_type": "code",
   "execution_count": 266,
   "metadata": {},
   "outputs": [],
   "source": [
    "def normalize(x):\n",
    "    minv = np.min(x)\n",
    "    maxv = np.max(x)\n",
    "    return (x - minv) / (maxv - minv)"
   ]
  },
  {
   "cell_type": "code",
   "execution_count": 267,
   "metadata": {},
   "outputs": [],
   "source": [
    "def one_hot_encode(x):\n",
    "    enc = np.zeros((len(x), 10))\n",
    "    for index, value in enumerate(x):\n",
    "        enc[index][value] = 1\n",
    "        \n",
    "    return enc"
   ]
  },
  {
   "cell_type": "code",
   "execution_count": 268,
   "metadata": {},
   "outputs": [],
   "source": [
    "def preproc_save(normalize, one_hot_encode, features, lbls, filename):\n",
    "    features = normalize(features)\n",
    "    lbls = one_hot_encode(lbls)\n",
    "    \n",
    "    pickle.dump((features, lbls), open(filename, 'wb'))"
   ]
  },
  {
   "cell_type": "code",
   "execution_count": 269,
   "metadata": {},
   "outputs": [],
   "source": [
    "def preproc_save_data(cifar10FolderPath, normalize, one_hot_encode):\n",
    "    nbatch = 5\n",
    "    validfeatures = []\n",
    "    validlbls = []\n",
    "    \n",
    "    for batchindex in range(1, nbatch + 1):\n",
    "        features, lbls = cifar10_load_batch(cifar10FolderPath, batchindex)\n",
    "        validationindex = int(len(features) * .1)\n",
    "        preproc_save(normalize, one_hot_encode,\n",
    "                    features[:-validationindex],\n",
    "                    lbls[:-validationindex],\n",
    "                    'preprocess_batch_' + str(batchindex) + '.p')\n",
    "        \n",
    "        validfeatures.extend(features[-validationindex:])\n",
    "        validlbls.extend(lbls[-validationindex:])\n",
    "        \n",
    "    preproc_save(normalize, one_hot_encode,\n",
    "                np.array(validfeatures),\n",
    "                np.array(validlbls),\n",
    "                'preprocess_validation.p')\n",
    "    \n",
    "    with open(cifar10FolderPath + '/test_batch', mode='rb') as file:\n",
    "        batch = pickle.load(file, encoding='latin1')\n",
    "        \n",
    "    testfeatures = batch['data'].reshape((len(batch['data']), 3, 32, 32)).transpose(0, 2, 3, 1)\n",
    "    testlbls = batch['labels']\n",
    "    \n",
    "    preproc_save(normalize, one_hot_encode, np.array(testfeatures), np.array(testlbls),\n",
    "                'preprocess.training.p')"
   ]
  },
  {
   "cell_type": "code",
   "execution_count": 270,
   "metadata": {},
   "outputs": [],
   "source": [
    "# Preprocess data\n",
    "preproc_save_data(cifar10FolderPath, normalize, one_hot_encode)"
   ]
  },
  {
   "cell_type": "code",
   "execution_count": 271,
   "metadata": {},
   "outputs": [],
   "source": [
    "import pickle"
   ]
  },
  {
   "cell_type": "code",
   "execution_count": 272,
   "metadata": {},
   "outputs": [],
   "source": [
    "validfeatures, validlbls = pickle.load(open('preprocess_validation.p', mode='rb'))"
   ]
  },
  {
   "cell_type": "code",
   "execution_count": 273,
   "metadata": {},
   "outputs": [],
   "source": [
    "import tensorflow as tf"
   ]
  },
  {
   "cell_type": "code",
   "execution_count": 274,
   "metadata": {},
   "outputs": [],
   "source": [
    "tf.reset_default_graph()\n",
    "x = tf.placeholder(tf.float32, shape=(None, 32, 32, 3), name='output_x')\n",
    "y = tf.placeholder(tf.float32, shape=(None, 10), name='output_y')\n",
    "\n",
    "keep_prob = tf.placeholder(tf.float32, name='keep_prob')"
   ]
  },
  {
   "cell_type": "code",
   "execution_count": 275,
   "metadata": {},
   "outputs": [],
   "source": [
    "def convolution_net(x, keep_prob):\n",
    "    c1filter = tf.Variable(tf.truncated_normal(shape=[3, 3, 3, 64], mean=0, stddev=.08))\n",
    "    c2filter = tf.Variable(tf.truncated_normal(shape=[3, 3, 64, 128], mean=0, stddev=.08))    \n",
    "    c3filter = tf.Variable(tf.truncated_normal(shape=[5, 5, 128, 256], mean=0, stddev=.08))    \n",
    "    c4filter = tf.Variable(tf.truncated_normal(shape=[5, 5, 256, 512], mean=0, stddev=.08))\n",
    "    \n",
    "    # 1, 2\n",
    "    c1 = tf.nn.conv2d(x, c1filter, strides=[1, 1, 1, 1], padding='SAME')\n",
    "    c1 = tf.nn.relu(c1)\n",
    "    c1pool = tf.nn.max_pool(c1, ksize=[1, 2, 2, 1], strides=[1, 2, 2, 1], padding='SAME')\n",
    "    c1bn = tf.layers.batch_normalization(c1pool)\n",
    "    \n",
    "    # 3, 4\n",
    "    c2 = tf.nn.conv2d(c1bn, c2filter, strides=[1, 1, 1, 1], padding='SAME')\n",
    "    c2 = tf.nn.relu(c2)\n",
    "    c2pool = tf.nn.max_pool(c2, ksize=[1, 2, 2, 1], strides=[1, 2, 2, 1], padding='SAME')\n",
    "    c2bn = tf.layers.batch_normalization(c2pool)\n",
    "    \n",
    "    # 5, 6\n",
    "    c3 = tf.nn.conv2d(c2bn, c3filter, strides=[1, 1, 1, 1], padding='SAME')\n",
    "    c3 = tf.nn.relu(c3)\n",
    "    c3pool = tf.nn.max_pool(c3, ksize=[1, 2, 2, 1], strides=[1, 2, 2, 1], padding='SAME')\n",
    "    c3bn = tf.layers.batch_normalization(c3pool)\n",
    "    \n",
    "    # 7, 8\n",
    "    c4 = tf.nn.conv2d(c3bn, c4filter, strides=[1, 1, 1, 1], padding='SAME')\n",
    "    c4 = tf.nn.relu(c4)\n",
    "    c4pool = tf.nn.max_pool(c4, ksize=[1, 2, 2, 1], strides=[1, 2, 2, 1], padding='SAME')\n",
    "    c4bn = tf.layers.batch_normalization(c4pool)\n",
    "    \n",
    "    # 9\n",
    "    flat = tf.contrib.layers.flatten(c4bn)\n",
    "    \n",
    "    # 10\n",
    "    full1 = tf.contrib.layers.fully_connected(inputs=flat, num_outputs=128, activation_fn=tf.nn.relu)\n",
    "    full1 = tf.nn.dropout(full1, keep_prob)\n",
    "    full1 = tf.layers.batch_normalization(full1)\n",
    "    \n",
    "    # 11\n",
    "    full2 = tf.contrib.layers.fully_connected(inputs=flat, num_outputs=256, activation_fn=tf.nn.relu)\n",
    "    full2 = tf.nn.dropout(full2, keep_prob)\n",
    "    full2 = tf.layers.batch_normalization(full2)\n",
    "    \n",
    "    # 11\n",
    "    full3 = tf.contrib.layers.fully_connected(inputs=flat, num_outputs=512, activation_fn=tf.nn.relu)\n",
    "    full3 = tf.nn.dropout(full3, keep_prob)\n",
    "    full3 = tf.layers.batch_normalization(full3)\n",
    "    \n",
    "    # 12\n",
    "    full4 = tf.contrib.layers.fully_connected(inputs=flat, num_outputs=1024, activation_fn=tf.nn.relu)\n",
    "    full4 = tf.nn.dropout(full4, keep_prob)\n",
    "    full4 = tf.layers.batch_normalization(full4)\n",
    "    \n",
    "    # 13\n",
    "    out = tf.contrib.layers.fully_connected(inputs=full3, num_outputs=10, activation_fn=None)\n",
    "    return out\n",
    "\n"
   ]
  },
  {
   "cell_type": "code",
   "execution_count": 276,
   "metadata": {},
   "outputs": [],
   "source": [
    "epochs = 10\n",
    "batch_size = 60\n",
    "keep_probability = .7\n",
    "learning_rate = .001"
   ]
  },
  {
   "cell_type": "code",
   "execution_count": 277,
   "metadata": {},
   "outputs": [],
   "source": [
    "logits = convolution_net(x, keep_prob)\n",
    "model = tf.identity(logits, name='logits')\n",
    "\n",
    "cost = tf.reduce_mean(tf.nn.softmax_cross_entropy_with_logits(logits=logits, labels=y))\n",
    "optimizer = tf.train.AdamOptimizer(learning_rate=learning_rate).minimize(cost)\n",
    "\n",
    "correct_pred = tf.equal(tf.argmax(logits, 1), tf.argmax(y, 1))\n",
    "accuracy = tf.reduce_mean(tf.cast(correct_pred, tf.float32), name='accuracy')"
   ]
  },
  {
   "cell_type": "code",
   "execution_count": 278,
   "metadata": {},
   "outputs": [],
   "source": [
    "def train_nn(session, optimizer, keep_probability, feature_batch, label_batch):\n",
    "    session.run(optimizer,\n",
    "               feed_dict={\n",
    "                   x: feature_batch,\n",
    "                   y: label_batch,\n",
    "                   keep_prob: keep_probability\n",
    "               })"
   ]
  },
  {
   "cell_type": "code",
   "execution_count": 279,
   "metadata": {},
   "outputs": [],
   "source": [
    "def print_stats(session, feature_batch, label_batch, cost, accuracy):\n",
    "    loss = sess.run(cost,\n",
    "                   feed_dict = {\n",
    "                       x: feature_batch,\n",
    "                       y: label_batch,\n",
    "                       keep_prob: 1.\n",
    "                   })\n",
    "    \n",
    "    valid_acc = sess.run(accuracy,\n",
    "                        feed_dict = {\n",
    "                            x: validfeatures,\n",
    "                            y: validlbls,\n",
    "                            keep_prob: 1.\n",
    "                        }) \n",
    "    \n",
    "    print('Loss: {:>10.4f} Validation Accuracy: {}:.6f'.format(loss, valid_acc))"
   ]
  },
  {
   "cell_type": "code",
   "execution_count": 280,
   "metadata": {},
   "outputs": [],
   "source": [
    "def batch_features_lbl(features, lbls, batch_size):\n",
    "    for start in range(0, len(features), batch_size):\n",
    "        end = min(start + batch_size, len(features))\n",
    "        yield features[start:end], lbls[start:end]"
   ]
  },
  {
   "cell_type": "code",
   "execution_count": 281,
   "metadata": {},
   "outputs": [],
   "source": [
    "def load_preproc_train_batch(batch_id, batch_size):\n",
    "    filename = 'preprocess_batch_' + str(batch_id) + '.p'\n",
    "    features, lbls = pickle.load(open(filename, mode='rb'))\n",
    "    \n",
    "    return batch_features_lbl(features, lbls, batch_size)"
   ]
  },
  {
   "cell_type": "code",
   "execution_count": 282,
   "metadata": {},
   "outputs": [
    {
     "name": "stdout",
     "output_type": "stream",
     "text": [
      "Training!...\n",
      "Epoch  1, CIFAR-10 Batch 1:Loss:     1.7295 Validation Accuracy: 0.3912000060081482:.6f\n",
      "Epoch  1, CIFAR-10 Batch 2:Loss:     1.3084 Validation Accuracy: 0.5004000067710876:.6f\n",
      "Epoch  1, CIFAR-10 Batch 3:Loss:     0.9758 Validation Accuracy: 0.5609999895095825:.6f\n",
      "Epoch  1, CIFAR-10 Batch 4:Loss:     1.0290 Validation Accuracy: 0.5654000043869019:.6f\n",
      "Epoch  1, CIFAR-10 Batch 5:Loss:     0.9476 Validation Accuracy: 0.626800000667572:.6f\n",
      "Epoch  2, CIFAR-10 Batch 1:Loss:     1.2048 Validation Accuracy: 0.6394000053405762:.6f\n",
      "Epoch  2, CIFAR-10 Batch 2:Loss:     0.9207 Validation Accuracy: 0.6394000053405762:.6f\n",
      "Epoch  2, CIFAR-10 Batch 3:Loss:     0.5891 Validation Accuracy: 0.6696000099182129:.6f\n",
      "Epoch  2, CIFAR-10 Batch 4:Loss:     0.6824 Validation Accuracy: 0.6940000057220459:.6f\n",
      "Epoch  2, CIFAR-10 Batch 5:Loss:     0.4722 Validation Accuracy: 0.7034000158309937:.6f\n",
      "Epoch  3, CIFAR-10 Batch 1:Loss:     0.8134 Validation Accuracy: 0.6970000267028809:.6f\n",
      "Epoch  3, CIFAR-10 Batch 2:Loss:     0.5711 Validation Accuracy: 0.6995999813079834:.6f\n",
      "Epoch  3, CIFAR-10 Batch 3:Loss:     0.3263 Validation Accuracy: 0.7157999873161316:.6f\n",
      "Epoch  3, CIFAR-10 Batch 4:Loss:     0.5254 Validation Accuracy: 0.7214000225067139:.6f\n",
      "Epoch  3, CIFAR-10 Batch 5:Loss:     0.2734 Validation Accuracy: 0.7098000049591064:.6f\n",
      "Epoch  4, CIFAR-10 Batch 1:Loss:     0.6096 Validation Accuracy: 0.7027999758720398:.6f\n",
      "Epoch  4, CIFAR-10 Batch 2:Loss:     0.2183 Validation Accuracy: 0.7052000164985657:.6f\n",
      "Epoch  4, CIFAR-10 Batch 3:Loss:     0.1884 Validation Accuracy: 0.7081999778747559:.6f\n",
      "Epoch  4, CIFAR-10 Batch 4:Loss:     0.2394 Validation Accuracy: 0.7185999751091003:.6f\n",
      "Epoch  4, CIFAR-10 Batch 5:Loss:     0.1693 Validation Accuracy: 0.7038000226020813:.6f\n",
      "Epoch  5, CIFAR-10 Batch 1:Loss:     0.3712 Validation Accuracy: 0.7035999894142151:.6f\n",
      "Epoch  5, CIFAR-10 Batch 2:Loss:     0.2022 Validation Accuracy: 0.7143999934196472:.6f\n",
      "Epoch  5, CIFAR-10 Batch 3:Loss:     0.1014 Validation Accuracy: 0.7013999819755554:.6f\n",
      "Epoch  5, CIFAR-10 Batch 4:Loss:     0.0976 Validation Accuracy: 0.72079998254776:.6f\n",
      "Epoch  5, CIFAR-10 Batch 5:Loss:     0.0822 Validation Accuracy: 0.7167999744415283:.6f\n",
      "Epoch  6, CIFAR-10 Batch 1:Loss:     0.1109 Validation Accuracy: 0.7135999798774719:.6f\n",
      "Epoch  6, CIFAR-10 Batch 2:Loss:     0.0762 Validation Accuracy: 0.7261999845504761:.6f\n",
      "Epoch  6, CIFAR-10 Batch 3:Loss:     0.0867 Validation Accuracy: 0.7006000280380249:.6f\n",
      "Epoch  6, CIFAR-10 Batch 4:Loss:     0.0658 Validation Accuracy: 0.7148000001907349:.6f\n",
      "Epoch  6, CIFAR-10 Batch 5:Loss:     0.0656 Validation Accuracy: 0.7116000056266785:.6f\n",
      "Epoch  7, CIFAR-10 Batch 1:Loss:     0.1128 Validation Accuracy: 0.7202000021934509:.6f\n",
      "Epoch  7, CIFAR-10 Batch 2:Loss:     0.0416 Validation Accuracy: 0.7192000150680542:.6f\n",
      "Epoch  7, CIFAR-10 Batch 3:Loss:     0.0427 Validation Accuracy: 0.7056000232696533:.6f\n",
      "Epoch  7, CIFAR-10 Batch 4:Loss:     0.0204 Validation Accuracy: 0.7278000116348267:.6f\n",
      "Epoch  7, CIFAR-10 Batch 5:Loss:     0.0471 Validation Accuracy: 0.7347999811172485:.6f\n",
      "Epoch  8, CIFAR-10 Batch 1:Loss:     0.0566 Validation Accuracy: 0.7192000150680542:.6f\n",
      "Epoch  8, CIFAR-10 Batch 2:Loss:     0.0154 Validation Accuracy: 0.7318000197410583:.6f\n",
      "Epoch  8, CIFAR-10 Batch 3:Loss:     0.0073 Validation Accuracy: 0.7251999974250793:.6f\n",
      "Epoch  8, CIFAR-10 Batch 4:Loss:     0.0427 Validation Accuracy: 0.7405999898910522:.6f\n",
      "Epoch  8, CIFAR-10 Batch 5:Loss:     0.0278 Validation Accuracy: 0.745199978351593:.6f\n",
      "Epoch  9, CIFAR-10 Batch 1:Loss:     0.0591 Validation Accuracy: 0.7311999797821045:.6f\n",
      "Epoch  9, CIFAR-10 Batch 2:Loss:     0.0567 Validation Accuracy: 0.7131999731063843:.6f\n",
      "Epoch  9, CIFAR-10 Batch 3:Loss:     0.0268 Validation Accuracy: 0.7342000007629395:.6f\n",
      "Epoch  9, CIFAR-10 Batch 4:Loss:     0.0450 Validation Accuracy: 0.7289999723434448:.6f\n",
      "Epoch  9, CIFAR-10 Batch 5:Loss:     0.0080 Validation Accuracy: 0.730400025844574:.6f\n",
      "Epoch 10, CIFAR-10 Batch 1:Loss:     0.0117 Validation Accuracy: 0.722000002861023:.6f\n",
      "Epoch 10, CIFAR-10 Batch 2:Loss:     0.0124 Validation Accuracy: 0.7307999730110168:.6f\n",
      "Epoch 10, CIFAR-10 Batch 3:Loss:     0.0204 Validation Accuracy: 0.7289999723434448:.6f\n",
      "Epoch 10, CIFAR-10 Batch 4:Loss:     0.0256 Validation Accuracy: 0.7247999906539917:.6f\n",
      "Epoch 10, CIFAR-10 Batch 5:Loss:     0.0104 Validation Accuracy: 0.7188000082969666:.6f\n"
     ]
    }
   ],
   "source": [
    "save_model_path = './image_classification'\n",
    "\n",
    "print('Training!...')\n",
    "\n",
    "with tf.Session() as sess:\n",
    "    # Initializing the variables\n",
    "    sess.run(tf.global_variables_initializer())\n",
    "    \n",
    "    # Training cycle\n",
    "    for epoch in range(epochs):\n",
    "        # Loop over all batches\n",
    "        nbatch = 5\n",
    "        for batchindex in range(1, nbatch + 1):\n",
    "            for batchfeatures, batchlbls in load_preproc_train_batch(batchindex, batch_size):\n",
    "                train_nn(sess, optimizer, keep_probability, batchfeatures, batchlbls)\n",
    "                \n",
    "            print('Epoch {:>2}, CIFAR-10 Batch {}:'.format(epoch + 1, batchindex), end='')\n",
    "            print_stats(sess, batchfeatures, batchlbls, cost, accuracy)\n",
    "            \n",
    "    # Save Model\n",
    "    saver = tf.train.Saver()\n",
    "    save_path = saver.save(sess, save_model_path)"
   ]
  },
  {
   "cell_type": "markdown",
   "metadata": {},
   "source": [
    "### Checkpoint\n",
    "\n",
    "The model has been saved to disk."
   ]
  },
  {
   "cell_type": "markdown",
   "metadata": {},
   "source": [
    "### Test Model"
   ]
  },
  {
   "cell_type": "code",
   "execution_count": 283,
   "metadata": {},
   "outputs": [],
   "source": [
    "import pickle\n",
    "import numpy as np\n",
    "import matplotlib.pyplot as plt\n",
    "from sklearn.preprocessing import LabelBinarizer"
   ]
  },
  {
   "cell_type": "code",
   "execution_count": 284,
   "metadata": {},
   "outputs": [],
   "source": [
    "def batch_features_lbl(features, lbls, batch_size):\n",
    "    '''\n",
    "    Split features and labels into batches\n",
    "    '''\n",
    "    for start in range(0, len(features), batch_size):\n",
    "        end = min(start + batch_size, len(features))\n",
    "        yield features[start:end], lbls[start:end]"
   ]
  },
  {
   "cell_type": "code",
   "execution_count": 289,
   "metadata": {},
   "outputs": [],
   "source": [
    "def display_img_predict(features, lbls, predictions, top_n_predictions):\n",
    "    nclasses = 10\n",
    "    lblbinarizer = LabelBinarizer()\n",
    "    lblbinarizer.fit(range(nclasses))\n",
    "    lblids = lblbinarizer.inverse_transform(np.array(lbls))\n",
    "    \n",
    "    fig, axies = plt.subplots(nrows=top_n_predictions, ncols=2, figsize=(20, 10))\n",
    "    fig.tight_layout()\n",
    "    fig.suptitle('Softmax Predictions', fontsize=20, y=1.1)\n",
    "    \n",
    "    n_predictions = 5\n",
    "    margin = .05\n",
    "    ind = np.arange(n_predictions)\n",
    "    width = (1. - 2. * margin) / n_predictions\n",
    "    \n",
    "    for image_i, (feature, lblid, pred_indices, pred_values) in enumerate(zip(features, lblids, predictions.indices, predictions.values)):\n",
    "        if (image_i < top_n_predictions):\n",
    "            pred_names = [lblnames[pred_i] for pred_i in pred_indices]\n",
    "            correct_name = lblnames[lblid]\n",
    "            \n",
    "            axies[image_i][0].imshow((feature * 255).astype(np.int32, copy=False))\n",
    "            axies[image_i][0].set_title(correct_name)\n",
    "            axies[image_i][0].set_axis_off()\n",
    "            \n",
    "            axies[image_i][1].barh(ind + margin, pred_values[:5], width)\n",
    "            axies[image_i][1].set_yticks(ind + margin)\n",
    "            axies[image_i][1].set_yticklabels(pred_names[::1])\n",
    "            axies[image_i][1].set_xticks([0, .5, 1.])\n",
    "\n",
    "        "
   ]
  },
  {
   "cell_type": "code",
   "execution_count": 290,
   "metadata": {},
   "outputs": [],
   "source": [
    "%matplotlib inline\n",
    "%config InlineBackend.figure_format = 'retina'\n",
    "\n",
    "import tensorflow as tf\n",
    "import pickle\n",
    "import random"
   ]
  },
  {
   "cell_type": "code",
   "execution_count": 291,
   "metadata": {},
   "outputs": [],
   "source": [
    "save_model_path = './image_classification'\n",
    "batch_size = 64\n",
    "nsamples =10\n",
    "top_n_predictions = 5"
   ]
  },
  {
   "cell_type": "code",
   "execution_count": 292,
   "metadata": {},
   "outputs": [
    {
     "name": "stdout",
     "output_type": "stream",
     "text": [
      "INFO:tensorflow:Restoring parameters from ./image_classification\n",
      "Testing Accuracy: 0.7218351910828026\n",
      "\n"
     ]
    },
    {
     "data": {
      "image/png": "[encoded data removed]",
      "text/plain": [
       "<Figure size 1440x720 with 10 Axes>"
      ]
     },
     "metadata": {
      "image/png": {
       "height": 795,
       "width": 1138
      },
      "needs_background": "light"
     },
     "output_type": "display_data"
    }
   ],
   "source": [
    "def testmodel():\n",
    "    testfeatures, testlbls = pickle.load(open('preprocess.training.p', mode='rb'))\n",
    "    loaded_graph = tf.Graph()\n",
    "    \n",
    "    with tf.Session(graph=loaded_graph) as sess:\n",
    "        \n",
    "        # Load model\n",
    "        loader = tf.train.import_meta_graph(save_model_path + '.meta')\n",
    "        loader.restore(sess, save_model_path)\n",
    "        \n",
    "        # Get Tensors from Loaded model\n",
    "        loadedx = loaded_graph.get_tensor_by_name('output_x:0')\n",
    "        loadedy = loaded_graph.get_tensor_by_name('output_y:0')\n",
    "        loaded_keep_prob = loaded_graph.get_tensor_by_name('keep_prob:0')\n",
    "        loaded_logits = loaded_graph.get_tensor_by_name('logits:0')\n",
    "        loaded_acc = loaded_graph.get_tensor_by_name('accuracy:0')\n",
    "        \n",
    "        # Get accuracy in batches for memory limitations\n",
    "        test_batch_acc_total = 0\n",
    "        test_batch_count = 0\n",
    "        \n",
    "        for train_feature_batch, train_label_batch in batch_features_lbl(testfeatures, testlbls, batch_size):\n",
    "            test_batch_acc_total += sess.run(\n",
    "                loaded_acc,\n",
    "                feed_dict={loadedx: train_feature_batch,\n",
    "                          loadedy: train_label_batch,\n",
    "                           loaded_keep_prob: 1.\n",
    "                          })\n",
    "            test_batch_count += 1\n",
    "            \n",
    "        print('Testing Accuracy: {}\\n'.format(test_batch_acc_total / test_batch_count))\n",
    "        \n",
    "        # Print Random Samples\n",
    "        random_test_features, random_test_labels = tuple(zip(*random.sample(list(zip(testfeatures, testlbls)), nsamples)))\n",
    "        random_test_predictions = sess.run(\n",
    "            tf.nn.top_k(tf.nn.softmax(loaded_logits), top_n_predictions),\n",
    "            feed_dict = {loadedx: random_test_features,\n",
    "                        loadedy: random_test_labels,\n",
    "                        loaded_keep_prob: 1.})\n",
    "        display_img_predict(random_test_features, random_test_labels, random_test_predictions, top_n_predictions)\n",
    "        \n",
    "testmodel()\n",
    "            \n",
    "            \n",
    "            \n",
    "            \n",
    "            \n",
    "            "
   ]
  },
  {
   "cell_type": "code",
   "execution_count": null,
   "metadata": {},
   "outputs": [],
   "source": []
  },
  {
   "cell_type": "code",
   "execution_count": null,
   "metadata": {},
   "outputs": [],
   "source": []
  },
  {
   "cell_type": "code",
   "execution_count": null,
   "metadata": {},
   "outputs": [],
   "source": []
  },
  {
   "cell_type": "code",
   "execution_count": null,
   "metadata": {},
   "outputs": [],
   "source": []
  },
  {
   "cell_type": "code",
   "execution_count": null,
   "metadata": {},
   "outputs": [],
   "source": []
  },
  {
   "cell_type": "code",
   "execution_count": null,
   "metadata": {},
   "outputs": [],
   "source": []
  },
  {
   "cell_type": "code",
   "execution_count": null,
   "metadata": {},
   "outputs": [],
   "source": []
  },
  {
   "cell_type": "code",
   "execution_count": null,
   "metadata": {},
   "outputs": [],
   "source": []
  },
  {
   "cell_type": "code",
   "execution_count": null,
   "metadata": {},
   "outputs": [],
   "source": []
  },
  {
   "cell_type": "code",
   "execution_count": null,
   "metadata": {},
   "outputs": [],
   "source": []
  },
  {
   "cell_type": "code",
   "execution_count": null,
   "metadata": {},
   "outputs": [],
   "source": []
  },
  {
   "cell_type": "code",
   "execution_count": null,
   "metadata": {},
   "outputs": [],
   "source": []
  },
  {
   "cell_type": "code",
   "execution_count": null,
   "metadata": {},
   "outputs": [],
   "source": []
  },
  {
   "cell_type": "code",
   "execution_count": null,
   "metadata": {},
   "outputs": [],
   "source": []
  },
  {
   "cell_type": "code",
   "execution_count": null,
   "metadata": {},
   "outputs": [],
   "source": []
  },
  {
   "cell_type": "code",
   "execution_count": null,
   "metadata": {},
   "outputs": [],
   "source": []
  },
  {
   "cell_type": "code",
   "execution_count": null,
   "metadata": {},
   "outputs": [],
   "source": []
  },
  {
   "cell_type": "code",
   "execution_count": null,
   "metadata": {},
   "outputs": [],
   "source": []
  },
  {
   "cell_type": "code",
   "execution_count": null,
   "metadata": {},
   "outputs": [],
   "source": []
  },
  {
   "cell_type": "code",
   "execution_count": null,
   "metadata": {},
   "outputs": [],
   "source": []
  },
  {
   "cell_type": "code",
   "execution_count": null,
   "metadata": {},
   "outputs": [],
   "source": []
  },
  {
   "cell_type": "code",
   "execution_count": null,
   "metadata": {},
   "outputs": [],
   "source": []
  },
  {
   "cell_type": "code",
   "execution_count": null,
   "metadata": {},
   "outputs": [],
   "source": []
  },
  {
   "cell_type": "code",
   "execution_count": null,
   "metadata": {},
   "outputs": [],
   "source": []
  },
  {
   "cell_type": "code",
   "execution_count": null,
   "metadata": {},
   "outputs": [],
   "source": []
  },
  {
   "cell_type": "code",
   "execution_count": null,
   "metadata": {},
   "outputs": [],
   "source": []
  },
  {
   "cell_type": "code",
   "execution_count": null,
   "metadata": {},
   "outputs": [],
   "source": []
  },
  {
   "cell_type": "code",
   "execution_count": null,
   "metadata": {},
   "outputs": [],
   "source": []
  },
  {
   "cell_type": "code",
   "execution_count": null,
   "metadata": {},
   "outputs": [],
   "source": []
  },
  {
   "cell_type": "code",
   "execution_count": null,
   "metadata": {},
   "outputs": [],
   "source": []
  },
  {
   "cell_type": "code",
   "execution_count": null,
   "metadata": {},
   "outputs": [],
   "source": []
  },
  {
   "cell_type": "code",
   "execution_count": null,
   "metadata": {},
   "outputs": [],
   "source": []
  },
  {
   "cell_type": "code",
   "execution_count": null,
   "metadata": {},
   "outputs": [],
   "source": []
  },
  {
   "cell_type": "code",
   "execution_count": null,
   "metadata": {},
   "outputs": [],
   "source": []
  },
  {
   "cell_type": "code",
   "execution_count": null,
   "metadata": {},
   "outputs": [],
   "source": []
  },
  {
   "cell_type": "code",
   "execution_count": null,
   "metadata": {},
   "outputs": [],
   "source": []
  },
  {
   "cell_type": "code",
   "execution_count": null,
   "metadata": {},
   "outputs": [],
   "source": []
  },
  {
   "cell_type": "code",
   "execution_count": null,
   "metadata": {},
   "outputs": [],
   "source": []
  }
 ],
 "metadata": {
  "kernelspec": {
   "display_name": "Python 3",
   "language": "python",
   "name": "python3"
  },
  "language_info": {
   "codemirror_mode": {
    "name": "ipython",
    "version": 3
   },
   "file_extension": ".py",
   "mimetype": "text/x-python",
   "name": "python",
   "nbconvert_exporter": "python",
   "pygments_lexer": "ipython3",
   "version": "3.7.3"
  }
 },
 "nbformat": 4,
 "nbformat_minor": 2
}
