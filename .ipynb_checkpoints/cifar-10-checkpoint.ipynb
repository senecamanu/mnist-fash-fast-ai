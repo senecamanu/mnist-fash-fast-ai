{
 "cells": [
  {
   "cell_type": "code",
   "execution_count": 167,
   "metadata": {},
   "outputs": [],
   "source": [
    "!activate tf_gpu"
   ]
  },
  {
   "cell_type": "code",
   "execution_count": 168,
   "metadata": {},
   "outputs": [],
   "source": [
    "from urllib.request import urlretrieve\n",
    "from os.path import isfile, isdir\n",
    "from tqdm import tqdm\n",
    "import tarfile"
   ]
  },
  {
   "cell_type": "code",
   "execution_count": 169,
   "metadata": {},
   "outputs": [],
   "source": [
    "cifar10FolderPath = 'cifar-10-batches-py'"
   ]
  },
  {
   "cell_type": "code",
   "execution_count": 170,
   "metadata": {},
   "outputs": [],
   "source": [
    "class DLProg(tqdm):\n",
    "    nthblock = 0\n",
    "    \n",
    "    def hook(self, block_num=1, block_size=1, total_size=None):\n",
    "        self.total = total_size\n",
    "        self.update((block_num - self.nthblock) * block_size)\n",
    "        self.nthblock = block_num"
   ]
  },
  {
   "cell_type": "code",
   "execution_count": 171,
   "metadata": {},
   "outputs": [],
   "source": [
    "# try not running this again lmao\n",
    "\n",
    "if not isfile('cifar-10-python.tar.gz'):\n",
    "    with DLProg(unit='B', unit_scale=True, miniters=1, desc='CIFAR-10 Dataset') as pbar:\n",
    "        urlretrieve('https://www.cs.toronto.edu/~kriz/cifar-10-python.tar.gz',\n",
    "                   'cifar-10-python.tar.gz',\n",
    "                   pbar.hook)\n",
    "        \n",
    "if not isdir(cifar10FolderPath):\n",
    "    with tarfile.open('cifar-10-python.tar.gz') as tar:\n",
    "        tar.extractall()\n",
    "        tar.close()"
   ]
  },
  {
   "cell_type": "code",
   "execution_count": 172,
   "metadata": {},
   "outputs": [],
   "source": [
    "import pickle\n",
    "import numpy as np\n",
    "import matplotlib.pyplot as plt"
   ]
  },
  {
   "cell_type": "code",
   "execution_count": 173,
   "metadata": {},
   "outputs": [],
   "source": [
    "lblnames = [\n",
    "    'airplane', 'automobile', 'bird', 'cat', 'deer', 'dog', 'frog',\n",
    "    'horse', 'ship', 'truck'\n",
    "]"
   ]
  },
  {
   "cell_type": "code",
   "execution_count": 174,
   "metadata": {},
   "outputs": [],
   "source": [
    "def cifar10_load_batch(cifar10FolderPath, batch_id):\n",
    "    with open(cifar10FolderPath + '/data_batch_' + str(batch_id), mode='rb') as file:\n",
    "        # note the encoding type is latin1\n",
    "        batch = pickle.load(file, encoding='latin1')\n",
    "        \n",
    "    features = batch['data'].reshape((len(batch['data']), 3, 32, 32)).transpose(0, 2, 3, 1)\n",
    "    lbls = batch['labels']\n",
    "    \n",
    "    return features, lbls"
   ]
  },
  {
   "cell_type": "code",
   "execution_count": 175,
   "metadata": {},
   "outputs": [],
   "source": [
    "def displaystats(cifar10FolderPath, batch_id, sample_id):\n",
    "    features, lbls = cifar10_load_batch(cifar10FolderPath, batch_id)\n",
    "    \n",
    "    if not (0 <= sample_id < len(features)):\n",
    "        print('{} samples in batch {}. {} is out of range.'.format(len(features), batch_id, sample_id))\n",
    "        return None\n",
    "    \n",
    "    print('\\nStats of batch #{}'.format(batch_id))\n",
    "    print('# of Samples: {}\\n'.format(len(features)))\n",
    "    \n",
    "#     lblnames = lblnames\n",
    "    lblcounts = dict(zip(*np.unique(lbls, return_counts=True)))\n",
    "    \n",
    "    for key, value in lblcounts.items():\n",
    "        print('Label Counts of [{}][{}]: {}'.format(key, lblnames[key].upper(), value))\n",
    "        \n",
    "    sampleimg = features[sample_id]\n",
    "    samplelbl = lbls[sample_id]\n",
    "    \n",
    "    print('\\nExample of Image {}:'.format(sample_id))\n",
    "    print('Image - Min Vallue: {} Max Value: {}'.format(sampleimg.min(), sampleimg.max()))\n",
    "    print('Image - Shape: {}'.format(sampleimg.shape))\n",
    "    print('Label - Label Id: {} Name: {}'.format(samplelbl, lblnames[samplelbl]))\n",
    "    \n",
    "    plt.imshow(sampleimg)"
   ]
  },
  {
   "cell_type": "code",
   "execution_count": 176,
   "metadata": {},
   "outputs": [
    {
     "name": "stdout",
     "output_type": "stream",
     "text": [
      "\n",
      "Stats of batch #3\n",
      "# of Samples: 10000\n",
      "\n",
      "Label Counts of [0][AIRPLANE]: 994\n",
      "Label Counts of [1][AUTOMOBILE]: 1042\n",
      "Label Counts of [2][BIRD]: 965\n",
      "Label Counts of [3][CAT]: 997\n",
      "Label Counts of [4][DEER]: 990\n",
      "Label Counts of [5][DOG]: 1029\n",
      "Label Counts of [6][FROG]: 978\n",
      "Label Counts of [7][HORSE]: 1015\n",
      "Label Counts of [8][SHIP]: 961\n",
      "Label Counts of [9][TRUCK]: 1029\n",
      "\n",
      "Example of Image 7000:\n",
      "Image - Min Vallue: 24 Max Value: 252\n",
      "Image - Shape: (32, 32, 3)\n",
      "Label - Label Id: 0 Name: airplane\n"
     ]
    },
    {
     "data": {
      "image/png": "[encoded data removed]",
      "text/plain": [
       "<Figure size 432x288 with 1 Axes>"
      ]
     },
     "metadata": {
      "image/png": {
       "height": 250,
       "width": 253
      },
      "needs_background": "light"
     },
     "output_type": "display_data"
    }
   ],
   "source": [
    "%matplotlib inline\n",
    "%config InlineBackend.figure_format = 'retina'\n",
    "\n",
    "import numpy as np\n",
    "\n",
    "# Explore the dataset\n",
    "batchid = 3\n",
    "sampleid = 7000\n",
    "displaystats(cifar10FolderPath, batchid, sampleid)"
   ]
  },
  {
   "cell_type": "code",
   "execution_count": 177,
   "metadata": {},
   "outputs": [],
   "source": [
    "def normalize(x):\n",
    "    minv = np.min(x)\n",
    "    maxv = np.max(x)\n",
    "    return (x - minv) / (maxv - minv)"
   ]
  },
  {
   "cell_type": "code",
   "execution_count": 178,
   "metadata": {},
   "outputs": [],
   "source": [
    "def one_hot_encode(x):\n",
    "    enc = np.zeros((len(x), 10))\n",
    "    for index, value in enumerate(x):\n",
    "        enc[index][value] = 1\n",
    "        \n",
    "    return enc"
   ]
  },
  {
   "cell_type": "code",
   "execution_count": 179,
   "metadata": {},
   "outputs": [],
   "source": [
    "def preproc_save(normalize, one_hot_encode, features, lbls, filename):\n",
    "    features = normalize(features)\n",
    "    lbls = one_hot_encode(lbls)\n",
    "    \n",
    "    pickle.dump((features, lbls), open(filename, 'wb'))"
   ]
  },
  {
   "cell_type": "code",
   "execution_count": 180,
   "metadata": {},
   "outputs": [],
   "source": [
    "def preproc_save_data(cifar10FolderPath, normalize, one_hot_encode):\n",
    "    nbatch = 5\n",
    "    validfeatures = []\n",
    "    validlbls = []\n",
    "    \n",
    "    for batchindex in range(1, nbatch + 1):\n",
    "        features, lbls = cifar10_load_batch(cifar10FolderPath, batchindex)\n",
    "        validationindex = int(len(features) * .1)\n",
    "        preproc_save(normalize, one_hot_encode,\n",
    "                    features[:-validationindex],\n",
    "                    lbls[:-validationindex],\n",
    "                    'preprocess_batch_' + str(batchindex) + '.p')\n",
    "        \n",
    "        validfeatures.extend(features[-validationindex:])\n",
    "        validlbls.extend(lbls[-validationindex:])\n",
    "        \n",
    "    preproc_save(normalize, one_hot_encode,\n",
    "                np.array(validfeatures),\n",
    "                np.array(validlbls),\n",
    "                'preprocess_validation.p')\n",
    "    \n",
    "    with open(cifar10FolderPath + '/test_batch', mode='rb') as file:\n",
    "        batch = pickle.load(file, encoding='latin1')\n",
    "        \n",
    "    testfeatures = batch['data'].reshape((len(batch['data']), 3, 32, 32)).transpose(0, 2, 3, 1)\n",
    "    testlbls = batch['labels']\n",
    "    \n",
    "    preproc_save(normalize, one_hot_encode, np.array(testfeatures), np.array(testlbls),\n",
    "                'preprocess.training.p')"
   ]
  },
  {
   "cell_type": "code",
   "execution_count": 181,
   "metadata": {},
   "outputs": [],
   "source": [
    "# Preprocess data\n",
    "preproc_save_data(cifar10FolderPath, normalize, one_hot_encode)"
   ]
  },
  {
   "cell_type": "code",
   "execution_count": 182,
   "metadata": {},
   "outputs": [],
   "source": [
    "import pickle"
   ]
  },
  {
   "cell_type": "code",
   "execution_count": 183,
   "metadata": {},
   "outputs": [],
   "source": [
    "validfeatures, validlbls = pickle.load(open('preprocess_validation.p', mode='rb'))"
   ]
  },
  {
   "cell_type": "code",
   "execution_count": 184,
   "metadata": {},
   "outputs": [],
   "source": [
    "import tensorflow as tf"
   ]
  },
  {
   "cell_type": "code",
   "execution_count": 185,
   "metadata": {},
   "outputs": [],
   "source": [
    "tf.reset_default_graph()\n",
    "x = tf.placeholder(tf.float32, shape=(None, 32, 32, 3), name='output_x')\n",
    "y = tf.placeholder(tf.float32, shape=(None, 10), name='output_y')\n",
    "\n",
    "keep_prob = tf.placeholder(tf.float32, name='keep_prob')"
   ]
  },
  {
   "cell_type": "code",
   "execution_count": 247,
   "metadata": {},
   "outputs": [],
   "source": [
    "def convolution_net(x, keep_prob):\n",
    "    c1filter = tf.Variable(tf.truncated_normal(shape=[3, 3, 3, 64], mean=0, stddev=.08))\n",
    "    c2filter = tf.Variable(tf.truncated_normal(shape=[3, 3, 64, 128], mean=0, stddev=.08))    \n",
    "    c3filter = tf.Variable(tf.truncated_normal(shape=[5, 5, 128, 256], mean=0, stddev=.08))    \n",
    "    c4filter = tf.Variable(tf.truncated_normal(shape=[5, 5, 256, 512], mean=0, stddev=.08))\n",
    "    \n",
    "    # 1, 2\n",
    "    c1 = tf.nn.conv2d(x, c1filter, strides=[1, 1, 1, 1], padding='SAME')\n",
    "    c1 = tf.nn.relu(c1)\n",
    "    c1pool = tf.nn.max_pool(c1, ksize=[1, 2, 2, 1], strides=[1, 2, 2, 1], padding='SAME')\n",
    "    c1bn = tf.layers.batch_normalization(c1pool)\n",
    "    \n",
    "    # 3, 4\n",
    "    c2 = tf.nn.conv2d(c1bn, c2filter, strides=[1, 1, 1, 1], padding='SAME')\n",
    "    c2 = tf.nn.relu(c2)\n",
    "    c2pool = tf.nn.max_pool(c2, ksize=[1, 2, 2, 1], strides=[1, 2, 2, 1], padding='SAME')\n",
    "    c2bn = tf.layers.batch_normalization(c2pool)\n",
    "    \n",
    "    # 5, 6\n",
    "    c3 = tf.nn.conv2d(c2bn, c3filter, strides=[1, 1, 1, 1], padding='SAME')\n",
    "    c3 = tf.nn.relu(c3)\n",
    "    c3pool = tf.nn.max_pool(c3, ksize=[1, 2, 2, 1], strides=[1, 2, 2, 1], padding='SAME')\n",
    "    c3bn = tf.layers.batch_normalization(c3pool)\n",
    "    \n",
    "    # 7, 8\n",
    "    c4 = tf.nn.conv2d(c3bn, c4filter, strides=[1, 1, 1, 1], padding='SAME')\n",
    "    c4 = tf.nn.relu(c4)\n",
    "    c4pool = tf.nn.max_pool(c4, ksize=[1, 2, 2, 1], strides=[1, 2, 2, 1], padding='SAME')\n",
    "    c4bn = tf.layers.batch_normalization(c4pool)\n",
    "    \n",
    "    # 9\n",
    "    flat = tf.contrib.layers.flatten(c4bn)\n",
    "    \n",
    "    # 10\n",
    "    full1 = tf.contrib.layers.fully_connected(inputs=flat, num_outputs=128, activation_fn=tf.nn.relu)\n",
    "    full1 = tf.nn.dropout(full1, keep_prob)\n",
    "    full1 = tf.layers.batch_normalization(full1)\n",
    "    \n",
    "    # 11\n",
    "    full2 = tf.contrib.layers.fully_connected(inputs=flat, num_outputs=256, activation_fn=tf.nn.relu)\n",
    "    full2 = tf.nn.dropout(full2, keep_prob)\n",
    "    full2 = tf.layers.batch_normalization(full2)\n",
    "    \n",
    "    # 11\n",
    "    full3 = tf.contrib.layers.fully_connected(inputs=flat, num_outputs=512, activation_fn=tf.nn.relu)\n",
    "    full3 = tf.nn.dropout(full3, keep_prob)\n",
    "    full3 = tf.layers.batch_normalization(full3)\n",
    "    \n",
    "    # 12\n",
    "    full4 = tf.contrib.layers.fully_connected(inputs=flat, num_outputs=1024, activation_fn=tf.nn.relu)\n",
    "    full4 = tf.nn.dropout(full4, keep_prob)\n",
    "    full4 = tf.layers.batch_normalization(full4)\n",
    "    \n",
    "    # 13\n",
    "    out = tf.contrib.layers.fully_connected(inputs=full3, num_outputs=10, activation_fn=None)\n",
    "    return out\n",
    "\n"
   ]
  },
  {
   "cell_type": "code",
   "execution_count": 248,
   "metadata": {},
   "outputs": [],
   "source": [
    "epochs = 50\n",
    "batch_size = 60\n",
    "keep_probability = .7\n",
    "learning_rate = .001"
   ]
  },
  {
   "cell_type": "code",
   "execution_count": 249,
   "metadata": {},
   "outputs": [],
   "source": [
    "logits = convolution_net(x, keep_prob)\n",
    "model = tf.identity(logits, name='logits')\n",
    "\n",
    "cost = tf.reduce_mean(tf.nn.softmax_cross_entropy_with_logits(logits=logits, labels=y))\n",
    "optimizer = tf.train.AdamOptimizer(learning_rate=learning_rate).minimize(cost)\n",
    "\n",
    "correct_pred = tf.equal(tf.argmax(logits, 1), tf.argmax(y, 1))\n",
    "accuracy = tf.reduce_mean(tf.cast(correct_pred, tf.float32), name='accuracy')"
   ]
  },
  {
   "cell_type": "code",
   "execution_count": 250,
   "metadata": {},
   "outputs": [],
   "source": [
    "def train_nn(session, optimizer, keep_probability, feature_batch, label_batch):\n",
    "    session.run(optimizer,\n",
    "               feed_dict={\n",
    "                   x: feature_batch,\n",
    "                   y: label_batch,\n",
    "                   keep_prob: keep_probability\n",
    "               })"
   ]
  },
  {
   "cell_type": "code",
   "execution_count": 251,
   "metadata": {},
   "outputs": [],
   "source": [
    "def print_stats(session, feature_batch, label_batch, cost, accuracy):\n",
    "    loss = sess.run(cost,\n",
    "                   feed_dict = {\n",
    "                       x: feature_batch,\n",
    "                       y: label_batch,\n",
    "                       keep_prob: 1.\n",
    "                   })\n",
    "    \n",
    "    valid_acc = sess.run(accuracy,\n",
    "                        feed_dict = {\n",
    "                            x: validfeatures,\n",
    "                            y: validlbls,\n",
    "                            keep_prob: 1.\n",
    "                        }) \n",
    "    \n",
    "    print('Loss: {:>10.4f} Validation Accuracy: {}:.6f'.format(loss, valid_acc))"
   ]
  },
  {
   "cell_type": "code",
   "execution_count": 252,
   "metadata": {},
   "outputs": [],
   "source": [
    "def batch_features_lbl(features, lbls, batch_size):\n",
    "    for start in range(0, len(features), batch_size):\n",
    "        end = min(start + batch_size, len(features))\n",
    "        yield features[start:end], lbls[start:end]"
   ]
  },
  {
   "cell_type": "code",
   "execution_count": 253,
   "metadata": {},
   "outputs": [],
   "source": [
    "def load_preproc_train_batch(batch_id, batch_size):\n",
    "    filename = 'preprocess_batch_' + str(batch_id) + '.p'\n",
    "    features, lbls = pickle.load(open(filename, mode='rb'))\n",
    "    \n",
    "    return batch_features_lbl(features, lbls, batch_size)"
   ]
  },
  {
   "cell_type": "code",
   "execution_count": 254,
   "metadata": {},
   "outputs": [
    {
     "name": "stdout",
     "output_type": "stream",
     "text": [
      "Training!...\n",
      "Epoch  1, CIFAR-10 Batch 1:Loss:     1.8113 Validation Accuracy: 0.4023999869823456:.6f\n",
      "Epoch  1, CIFAR-10 Batch 2:Loss:     1.3252 Validation Accuracy: 0.5062000155448914:.6f\n",
      "Epoch  1, CIFAR-10 Batch 3:Loss:     1.0419 Validation Accuracy: 0.5645999908447266:.6f\n",
      "Epoch  1, CIFAR-10 Batch 4:Loss:     0.9885 Validation Accuracy: 0.6096000075340271:.6f\n",
      "Epoch  1, CIFAR-10 Batch 5:Loss:     0.8661 Validation Accuracy: 0.6348000168800354:.6f\n",
      "Epoch  2, CIFAR-10 Batch 1:Loss:     1.2291 Validation Accuracy: 0.6349999904632568:.6f\n",
      "Epoch  2, CIFAR-10 Batch 2:Loss:     0.8315 Validation Accuracy: 0.6615999937057495:.6f\n",
      "Epoch  2, CIFAR-10 Batch 3:Loss:     0.5433 Validation Accuracy: 0.6638000011444092:.6f\n",
      "Epoch  2, CIFAR-10 Batch 4:Loss:     0.6388 Validation Accuracy: 0.6934000253677368:.6f\n",
      "Epoch  2, CIFAR-10 Batch 5:Loss:     0.5135 Validation Accuracy: 0.7084000110626221:.6f\n",
      "Epoch  3, CIFAR-10 Batch 1:Loss:     0.8689 Validation Accuracy: 0.7013999819755554:.6f\n",
      "Epoch  3, CIFAR-10 Batch 2:Loss:     0.5863 Validation Accuracy: 0.6840000152587891:.6f\n",
      "Epoch  3, CIFAR-10 Batch 3:Loss:     0.2494 Validation Accuracy: 0.6966000199317932:.6f\n",
      "Epoch  3, CIFAR-10 Batch 4:Loss:     0.3824 Validation Accuracy: 0.7156000137329102:.6f\n",
      "Epoch  3, CIFAR-10 Batch 5:Loss:     0.2988 Validation Accuracy: 0.724399983882904:.6f\n",
      "Epoch  4, CIFAR-10 Batch 1:Loss:     0.4997 Validation Accuracy: 0.7188000082969666:.6f\n",
      "Epoch  4, CIFAR-10 Batch 2:Loss:     0.2769 Validation Accuracy: 0.7182000279426575:.6f\n",
      "Epoch  4, CIFAR-10 Batch 3:Loss:     0.1586 Validation Accuracy: 0.7253999710083008:.6f\n",
      "Epoch  4, CIFAR-10 Batch 4:Loss:     0.2685 Validation Accuracy: 0.7192000150680542:.6f\n",
      "Epoch  4, CIFAR-10 Batch 5:Loss:     0.1466 Validation Accuracy: 0.7373999953269958:.6f\n",
      "Epoch  5, CIFAR-10 Batch 1:Loss:     0.3345 Validation Accuracy: 0.7210000157356262:.6f\n",
      "Epoch  5, CIFAR-10 Batch 2:Loss:     0.1560 Validation Accuracy: 0.7328000068664551:.6f\n",
      "Epoch  5, CIFAR-10 Batch 3:Loss:     0.0575 Validation Accuracy: 0.7211999893188477:.6f\n",
      "Epoch  5, CIFAR-10 Batch 4:Loss:     0.1359 Validation Accuracy: 0.7080000042915344:.6f\n",
      "Epoch  5, CIFAR-10 Batch 5:Loss:     0.0437 Validation Accuracy: 0.7253999710083008:.6f\n",
      "Epoch  6, CIFAR-10 Batch 1:Loss:     0.1552 Validation Accuracy: 0.70660001039505:.6f\n",
      "Epoch  6, CIFAR-10 Batch 2:Loss:     0.1002 Validation Accuracy: 0.7447999715805054:.6f\n",
      "Epoch  6, CIFAR-10 Batch 3:Loss:     0.0435 Validation Accuracy: 0.7110000252723694:.6f\n",
      "Epoch  6, CIFAR-10 Batch 4:Loss:     0.0702 Validation Accuracy: 0.724399983882904:.6f\n",
      "Epoch  6, CIFAR-10 Batch 5:Loss:     0.0701 Validation Accuracy: 0.7325999736785889:.6f\n",
      "Epoch  7, CIFAR-10 Batch 1:Loss:     0.0595 Validation Accuracy: 0.7185999751091003:.6f\n",
      "Epoch  7, CIFAR-10 Batch 2:Loss:     0.0507 Validation Accuracy: 0.7275999784469604:.6f\n",
      "Epoch  7, CIFAR-10 Batch 3:Loss:     0.0366 Validation Accuracy: 0.7179999947547913:.6f\n",
      "Epoch  7, CIFAR-10 Batch 4:Loss:     0.0351 Validation Accuracy: 0.7211999893188477:.6f\n",
      "Epoch  7, CIFAR-10 Batch 5:Loss:     0.0126 Validation Accuracy: 0.7318000197410583:.6f\n",
      "Epoch  8, CIFAR-10 Batch 1:Loss:     0.0473 Validation Accuracy: 0.7275999784469604:.6f\n",
      "Epoch  8, CIFAR-10 Batch 2:Loss:     0.0254 Validation Accuracy: 0.7247999906539917:.6f\n",
      "Epoch  8, CIFAR-10 Batch 3:Loss:     0.0064 Validation Accuracy: 0.7346000075340271:.6f\n",
      "Epoch  8, CIFAR-10 Batch 4:Loss:     0.0184 Validation Accuracy: 0.7287999987602234:.6f\n",
      "Epoch  8, CIFAR-10 Batch 5:Loss:     0.0136 Validation Accuracy: 0.7365999817848206:.6f\n",
      "Epoch  9, CIFAR-10 Batch 1:Loss:     0.0260 Validation Accuracy: 0.727400004863739:.6f\n",
      "Epoch  9, CIFAR-10 Batch 2:Loss:     0.0078 Validation Accuracy: 0.7296000123023987:.6f\n",
      "Epoch  9, CIFAR-10 Batch 3:Loss:     0.0160 Validation Accuracy: 0.7121999859809875:.6f\n",
      "Epoch  9, CIFAR-10 Batch 4:Loss:     0.0233 Validation Accuracy: 0.7089999914169312:.6f\n",
      "Epoch  9, CIFAR-10 Batch 5:Loss:     0.0132 Validation Accuracy: 0.7268000245094299:.6f\n",
      "Epoch 10, CIFAR-10 Batch 1:Loss:     0.0439 Validation Accuracy: 0.7131999731063843:.6f\n",
      "Epoch 10, CIFAR-10 Batch 2:Loss:     0.0160 Validation Accuracy: 0.7275999784469604:.6f\n",
      "Epoch 10, CIFAR-10 Batch 3:Loss:     0.0125 Validation Accuracy: 0.739799976348877:.6f\n",
      "Epoch 10, CIFAR-10 Batch 4:Loss:     0.0103 Validation Accuracy: 0.7300000190734863:.6f\n",
      "Epoch 10, CIFAR-10 Batch 5:Loss:     0.0090 Validation Accuracy: 0.7311999797821045:.6f\n",
      "Epoch 11, CIFAR-10 Batch 1:Loss:     0.0332 Validation Accuracy: 0.7329999804496765:.6f\n",
      "Epoch 11, CIFAR-10 Batch 2:Loss:     0.0129 Validation Accuracy: 0.7297999858856201:.6f\n",
      "Epoch 11, CIFAR-10 Batch 3:Loss:     0.0139 Validation Accuracy: 0.7264000177383423:.6f\n",
      "Epoch 11, CIFAR-10 Batch 4:Loss:     0.0489 Validation Accuracy: 0.7382000088691711:.6f\n",
      "Epoch 11, CIFAR-10 Batch 5:Loss:     0.0066 Validation Accuracy: 0.7351999878883362:.6f\n",
      "Epoch 12, CIFAR-10 Batch 1:Loss:     0.0185 Validation Accuracy: 0.7441999912261963:.6f\n",
      "Epoch 12, CIFAR-10 Batch 2:Loss:     0.0142 Validation Accuracy: 0.7296000123023987:.6f\n",
      "Epoch 12, CIFAR-10 Batch 3:Loss:     0.0161 Validation Accuracy: 0.7111999988555908:.6f\n",
      "Epoch 12, CIFAR-10 Batch 4:Loss:     0.0213 Validation Accuracy: 0.729200005531311:.6f\n",
      "Epoch 12, CIFAR-10 Batch 5:Loss:     0.0050 Validation Accuracy: 0.7319999933242798:.6f\n",
      "Epoch 13, CIFAR-10 Batch 1:Loss:     0.0096 Validation Accuracy: 0.7135999798774719:.6f\n",
      "Epoch 13, CIFAR-10 Batch 2:Loss:     0.0140 Validation Accuracy: 0.7336000204086304:.6f\n",
      "Epoch 13, CIFAR-10 Batch 3:Loss:     0.0056 Validation Accuracy: 0.7426000237464905:.6f\n",
      "Epoch 13, CIFAR-10 Batch 4:Loss:     0.0086 Validation Accuracy: 0.7369999885559082:.6f\n",
      "Epoch 13, CIFAR-10 Batch 5:Loss:     0.0042 Validation Accuracy: 0.7297999858856201:.6f\n",
      "Epoch 14, CIFAR-10 Batch 1:Loss:     0.0081 Validation Accuracy: 0.7337999939918518:.6f\n",
      "Epoch 14, CIFAR-10 Batch 2:Loss:     0.0035 Validation Accuracy: 0.7401999831199646:.6f\n",
      "Epoch 14, CIFAR-10 Batch 3:Loss:     0.0028 Validation Accuracy: 0.7275999784469604:.6f\n",
      "Epoch 14, CIFAR-10 Batch 4:Loss:     0.0021 Validation Accuracy: 0.7585999965667725:.6f\n",
      "Epoch 14, CIFAR-10 Batch 5:Loss:     0.0050 Validation Accuracy: 0.7350000143051147:.6f\n",
      "Epoch 15, CIFAR-10 Batch 1:Loss:     0.0135 Validation Accuracy: 0.7337999939918518:.6f\n",
      "Epoch 15, CIFAR-10 Batch 2:Loss:     0.0069 Validation Accuracy: 0.7342000007629395:.6f\n",
      "Epoch 15, CIFAR-10 Batch 3:Loss:     0.0071 Validation Accuracy: 0.7196000218391418:.6f\n",
      "Epoch 15, CIFAR-10 Batch 4:Loss:     0.0041 Validation Accuracy: 0.7462000250816345:.6f\n",
      "Epoch 15, CIFAR-10 Batch 5:Loss:     0.0054 Validation Accuracy: 0.7369999885559082:.6f\n",
      "Epoch 16, CIFAR-10 Batch 1:Loss:     0.0087 Validation Accuracy: 0.746399998664856:.6f\n",
      "Epoch 16, CIFAR-10 Batch 2:Loss:     0.0054 Validation Accuracy: 0.7329999804496765:.6f\n",
      "Epoch 16, CIFAR-10 Batch 3:Loss:     0.0040 Validation Accuracy: 0.7224000096321106:.6f\n",
      "Epoch 16, CIFAR-10 Batch 4:Loss:     0.0052 Validation Accuracy: 0.7429999709129333:.6f\n",
      "Epoch 16, CIFAR-10 Batch 5:Loss:     0.0052 Validation Accuracy: 0.7429999709129333:.6f\n",
      "Epoch 17, CIFAR-10 Batch 1:Loss:     0.0081 Validation Accuracy: 0.7351999878883362:.6f\n",
      "Epoch 17, CIFAR-10 Batch 2:Loss:     0.0051 Validation Accuracy: 0.7441999912261963:.6f\n",
      "Epoch 17, CIFAR-10 Batch 3:Loss:     0.0030 Validation Accuracy: 0.7422000169754028:.6f\n",
      "Epoch 17, CIFAR-10 Batch 4:Loss:     0.0043 Validation Accuracy: 0.7418000102043152:.6f\n",
      "Epoch 17, CIFAR-10 Batch 5:Loss:     0.0008 Validation Accuracy: 0.7409999966621399:.6f\n",
      "Epoch 18, CIFAR-10 Batch 1:Loss:     0.0206 Validation Accuracy: 0.7297999858856201:.6f\n",
      "Epoch 18, CIFAR-10 Batch 2:Loss:     0.0032 Validation Accuracy: 0.7360000014305115:.6f\n",
      "Epoch 18, CIFAR-10 Batch 3:Loss:     0.0147 Validation Accuracy: 0.7390000224113464:.6f\n",
      "Epoch 18, CIFAR-10 Batch 4:Loss:     0.0023 Validation Accuracy: 0.7541999816894531:.6f\n",
      "Epoch 18, CIFAR-10 Batch 5:Loss:     0.0106 Validation Accuracy: 0.7333999872207642:.6f\n",
      "Epoch 19, CIFAR-10 Batch 1:Loss:     0.0153 Validation Accuracy: 0.7350000143051147:.6f\n",
      "Epoch 19, CIFAR-10 Batch 2:Loss:     0.0150 Validation Accuracy: 0.7383999824523926:.6f\n",
      "Epoch 19, CIFAR-10 Batch 3:Loss:     0.0054 Validation Accuracy: 0.7422000169754028:.6f\n"
     ]
    },
    {
     "name": "stdout",
     "output_type": "stream",
     "text": [
      "Epoch 19, CIFAR-10 Batch 4:Loss:     0.0636 Validation Accuracy: 0.7354000210762024:.6f\n",
      "Epoch 19, CIFAR-10 Batch 5:Loss:     0.0005 Validation Accuracy: 0.7476000189781189:.6f\n",
      "Epoch 20, CIFAR-10 Batch 1:Loss:     0.0065 Validation Accuracy: 0.7350000143051147:.6f\n",
      "Epoch 20, CIFAR-10 Batch 2:Loss:     0.0046 Validation Accuracy: 0.7369999885559082:.6f\n",
      "Epoch 20, CIFAR-10 Batch 3:Loss:     0.0068 Validation Accuracy: 0.7423999905586243:.6f\n",
      "Epoch 20, CIFAR-10 Batch 4:Loss:     0.0087 Validation Accuracy: 0.7487999796867371:.6f\n",
      "Epoch 20, CIFAR-10 Batch 5:Loss:     0.0034 Validation Accuracy: 0.7445999979972839:.6f\n",
      "Epoch 21, CIFAR-10 Batch 1:Loss:     0.0235 Validation Accuracy: 0.732200026512146:.6f\n",
      "Epoch 21, CIFAR-10 Batch 2:Loss:     0.0037 Validation Accuracy: 0.7378000020980835:.6f\n",
      "Epoch 21, CIFAR-10 Batch 3:Loss:     0.0026 Validation Accuracy: 0.7379999756813049:.6f\n",
      "Epoch 21, CIFAR-10 Batch 4:Loss:     0.0020 Validation Accuracy: 0.7324000000953674:.6f\n",
      "Epoch 21, CIFAR-10 Batch 5:Loss:     0.0067 Validation Accuracy: 0.7296000123023987:.6f\n",
      "Epoch 22, CIFAR-10 Batch 1:Loss:     0.0040 Validation Accuracy: 0.734000027179718:.6f\n",
      "Epoch 22, CIFAR-10 Batch 2:Loss:     0.0013 Validation Accuracy: 0.7373999953269958:.6f\n",
      "Epoch 22, CIFAR-10 Batch 3:Loss:     0.0028 Validation Accuracy: 0.7315999865531921:.6f\n",
      "Epoch 22, CIFAR-10 Batch 4:Loss:     0.0076 Validation Accuracy: 0.7414000034332275:.6f\n",
      "Epoch 22, CIFAR-10 Batch 5:Loss:     0.0285 Validation Accuracy: 0.7328000068664551:.6f\n",
      "Epoch 23, CIFAR-10 Batch 1:Loss:     0.0070 Validation Accuracy: 0.7346000075340271:.6f\n",
      "Epoch 23, CIFAR-10 Batch 2:Loss:     0.0004 Validation Accuracy: 0.729200005531311:.6f\n",
      "Epoch 23, CIFAR-10 Batch 3:Loss:     0.0038 Validation Accuracy: 0.7261999845504761:.6f\n",
      "Epoch 23, CIFAR-10 Batch 4:Loss:     0.0024 Validation Accuracy: 0.7346000075340271:.6f\n",
      "Epoch 23, CIFAR-10 Batch 5:Loss:     0.0086 Validation Accuracy: 0.7125999927520752:.6f\n",
      "Epoch 24, CIFAR-10 Batch 1:Loss:     0.0264 Validation Accuracy: 0.7432000041007996:.6f\n",
      "Epoch 24, CIFAR-10 Batch 2:Loss:     0.0108 Validation Accuracy: 0.7473999857902527:.6f\n",
      "Epoch 24, CIFAR-10 Batch 3:Loss:     0.0025 Validation Accuracy: 0.7490000128746033:.6f\n",
      "Epoch 24, CIFAR-10 Batch 4:Loss:     0.0110 Validation Accuracy: 0.7297999858856201:.6f\n",
      "Epoch 24, CIFAR-10 Batch 5:Loss:     0.0018 Validation Accuracy: 0.7305999994277954:.6f\n",
      "Epoch 25, CIFAR-10 Batch 1:Loss:     0.0026 Validation Accuracy: 0.7382000088691711:.6f\n",
      "Epoch 25, CIFAR-10 Batch 2:Loss:     0.0048 Validation Accuracy: 0.7504000067710876:.6f\n",
      "Epoch 25, CIFAR-10 Batch 3:Loss:     0.0535 Validation Accuracy: 0.7297999858856201:.6f\n",
      "Epoch 25, CIFAR-10 Batch 4:Loss:     0.0031 Validation Accuracy: 0.7364000082015991:.6f\n",
      "Epoch 25, CIFAR-10 Batch 5:Loss:     0.0500 Validation Accuracy: 0.7454000115394592:.6f\n",
      "Epoch 26, CIFAR-10 Batch 1:Loss:     0.0008 Validation Accuracy: 0.746999979019165:.6f\n",
      "Epoch 26, CIFAR-10 Batch 2:Loss:     0.0068 Validation Accuracy: 0.7342000007629395:.6f\n",
      "Epoch 26, CIFAR-10 Batch 3:Loss:     0.0015 Validation Accuracy: 0.7315999865531921:.6f\n",
      "Epoch 26, CIFAR-10 Batch 4:Loss:     0.0007 Validation Accuracy: 0.7513999938964844:.6f\n",
      "Epoch 26, CIFAR-10 Batch 5:Loss:     0.0018 Validation Accuracy: 0.7429999709129333:.6f\n",
      "Epoch 27, CIFAR-10 Batch 1:Loss:     0.0140 Validation Accuracy: 0.7418000102043152:.6f\n",
      "Epoch 27, CIFAR-10 Batch 2:Loss:     0.0009 Validation Accuracy: 0.7549999952316284:.6f\n",
      "Epoch 27, CIFAR-10 Batch 3:Loss:     0.0080 Validation Accuracy: 0.7365999817848206:.6f\n",
      "Epoch 27, CIFAR-10 Batch 4:Loss:     0.0037 Validation Accuracy: 0.7310000061988831:.6f\n",
      "Epoch 27, CIFAR-10 Batch 5:Loss:     0.0040 Validation Accuracy: 0.7555999755859375:.6f\n",
      "Epoch 28, CIFAR-10 Batch 1:Loss:     0.0025 Validation Accuracy: 0.7400000095367432:.6f\n",
      "Epoch 28, CIFAR-10 Batch 2:Loss:     0.0023 Validation Accuracy: 0.7368000149726868:.6f\n",
      "Epoch 28, CIFAR-10 Batch 3:Loss:     0.0002 Validation Accuracy: 0.746399998664856:.6f\n",
      "Epoch 28, CIFAR-10 Batch 4:Loss:     0.0062 Validation Accuracy: 0.7319999933242798:.6f\n",
      "Epoch 28, CIFAR-10 Batch 5:Loss:     0.0016 Validation Accuracy: 0.7501999735832214:.6f\n",
      "Epoch 29, CIFAR-10 Batch 1:Loss:     0.0065 Validation Accuracy: 0.7200000286102295:.6f\n",
      "Epoch 29, CIFAR-10 Batch 2:Loss:     0.0093 Validation Accuracy: 0.7454000115394592:.6f\n",
      "Epoch 29, CIFAR-10 Batch 3:Loss:     0.0012 Validation Accuracy: 0.7400000095367432:.6f\n",
      "Epoch 29, CIFAR-10 Batch 4:Loss:     0.0119 Validation Accuracy: 0.7445999979972839:.6f\n",
      "Epoch 29, CIFAR-10 Batch 5:Loss:     0.0045 Validation Accuracy: 0.7441999912261963:.6f\n",
      "Epoch 30, CIFAR-10 Batch 1:Loss:     0.0020 Validation Accuracy: 0.7361999750137329:.6f\n",
      "Epoch 30, CIFAR-10 Batch 2:Loss:     0.0005 Validation Accuracy: 0.7487999796867371:.6f\n",
      "Epoch 30, CIFAR-10 Batch 3:Loss:     0.0005 Validation Accuracy: 0.7376000285148621:.6f\n",
      "Epoch 30, CIFAR-10 Batch 4:Loss:     0.0036 Validation Accuracy: 0.7365999817848206:.6f\n",
      "Epoch 30, CIFAR-10 Batch 5:Loss:     0.0029 Validation Accuracy: 0.7329999804496765:.6f\n",
      "Epoch 31, CIFAR-10 Batch 1:Loss:     0.0008 Validation Accuracy: 0.7414000034332275:.6f\n",
      "Epoch 31, CIFAR-10 Batch 2:Loss:     0.0065 Validation Accuracy: 0.7408000230789185:.6f\n",
      "Epoch 31, CIFAR-10 Batch 3:Loss:     0.0008 Validation Accuracy: 0.7501999735832214:.6f\n",
      "Epoch 31, CIFAR-10 Batch 4:Loss:     0.0044 Validation Accuracy: 0.7328000068664551:.6f\n",
      "Epoch 31, CIFAR-10 Batch 5:Loss:     0.0004 Validation Accuracy: 0.7480000257492065:.6f\n",
      "Epoch 32, CIFAR-10 Batch 1:Loss:     0.0008 Validation Accuracy: 0.7440000176429749:.6f\n",
      "Epoch 32, CIFAR-10 Batch 2:Loss:     0.0088 Validation Accuracy: 0.7504000067710876:.6f\n",
      "Epoch 32, CIFAR-10 Batch 3:Loss:     0.0113 Validation Accuracy: 0.7409999966621399:.6f\n",
      "Epoch 32, CIFAR-10 Batch 4:Loss:     0.0008 Validation Accuracy: 0.7394000291824341:.6f\n",
      "Epoch 32, CIFAR-10 Batch 5:Loss:     0.0006 Validation Accuracy: 0.7458000183105469:.6f\n",
      "Epoch 33, CIFAR-10 Batch 1:Loss:     0.0029 Validation Accuracy: 0.7462000250816345:.6f\n",
      "Epoch 33, CIFAR-10 Batch 2:Loss:     0.0019 Validation Accuracy: 0.7444000244140625:.6f\n",
      "Epoch 33, CIFAR-10 Batch 3:Loss:     0.0002 Validation Accuracy: 0.7476000189781189:.6f\n",
      "Epoch 33, CIFAR-10 Batch 4:Loss:     0.0007 Validation Accuracy: 0.7423999905586243:.6f\n",
      "Epoch 33, CIFAR-10 Batch 5:Loss:     0.0004 Validation Accuracy: 0.7429999709129333:.6f\n",
      "Epoch 34, CIFAR-10 Batch 1:Loss:     0.0029 Validation Accuracy: 0.7534000277519226:.6f\n",
      "Epoch 34, CIFAR-10 Batch 2:Loss:     0.0015 Validation Accuracy: 0.7544000148773193:.6f\n",
      "Epoch 34, CIFAR-10 Batch 3:Loss:     0.0035 Validation Accuracy: 0.7573999762535095:.6f\n",
      "Epoch 34, CIFAR-10 Batch 4:Loss:     0.0019 Validation Accuracy: 0.7365999817848206:.6f\n",
      "Epoch 34, CIFAR-10 Batch 5:Loss:     0.0063 Validation Accuracy: 0.7501999735832214:.6f\n",
      "Epoch 35, CIFAR-10 Batch 1:Loss:     0.0105 Validation Accuracy: 0.7328000068664551:.6f\n",
      "Epoch 35, CIFAR-10 Batch 2:Loss:     0.0016 Validation Accuracy: 0.7459999918937683:.6f\n",
      "Epoch 35, CIFAR-10 Batch 3:Loss:     0.0004 Validation Accuracy: 0.7458000183105469:.6f\n",
      "Epoch 35, CIFAR-10 Batch 4:Loss:     0.0008 Validation Accuracy: 0.7404000163078308:.6f\n",
      "Epoch 35, CIFAR-10 Batch 5:Loss:     0.0004 Validation Accuracy: 0.7512000203132629:.6f\n",
      "Epoch 36, CIFAR-10 Batch 1:Loss:     0.0074 Validation Accuracy: 0.7301999926567078:.6f\n",
      "Epoch 36, CIFAR-10 Batch 2:Loss:     0.0112 Validation Accuracy: 0.7418000102043152:.6f\n",
      "Epoch 36, CIFAR-10 Batch 3:Loss:     0.0135 Validation Accuracy: 0.7554000020027161:.6f\n",
      "Epoch 36, CIFAR-10 Batch 4:Loss:     0.0012 Validation Accuracy: 0.751800000667572:.6f\n",
      "Epoch 36, CIFAR-10 Batch 5:Loss:     0.0009 Validation Accuracy: 0.739799976348877:.6f\n",
      "Epoch 37, CIFAR-10 Batch 1:Loss:     0.0017 Validation Accuracy: 0.7544000148773193:.6f\n",
      "Epoch 37, CIFAR-10 Batch 2:Loss:     0.0043 Validation Accuracy: 0.7526000142097473:.6f\n",
      "Epoch 37, CIFAR-10 Batch 3:Loss:     0.0007 Validation Accuracy: 0.7310000061988831:.6f\n",
      "Epoch 37, CIFAR-10 Batch 4:Loss:     0.0009 Validation Accuracy: 0.7545999884605408:.6f\n",
      "Epoch 37, CIFAR-10 Batch 5:Loss:     0.0016 Validation Accuracy: 0.7325999736785889:.6f\n",
      "Epoch 38, CIFAR-10 Batch 1:Loss:     0.0015 Validation Accuracy: 0.7354000210762024:.6f\n"
     ]
    },
    {
     "name": "stdout",
     "output_type": "stream",
     "text": [
      "Epoch 38, CIFAR-10 Batch 2:Loss:     0.0014 Validation Accuracy: 0.7411999702453613:.6f\n",
      "Epoch 38, CIFAR-10 Batch 3:Loss:     0.0061 Validation Accuracy: 0.741599977016449:.6f\n",
      "Epoch 38, CIFAR-10 Batch 4:Loss:     0.0021 Validation Accuracy: 0.7491999864578247:.6f\n",
      "Epoch 38, CIFAR-10 Batch 5:Loss:     0.0010 Validation Accuracy: 0.7480000257492065:.6f\n",
      "Epoch 39, CIFAR-10 Batch 1:Loss:     0.0022 Validation Accuracy: 0.7540000081062317:.6f\n",
      "Epoch 39, CIFAR-10 Batch 2:Loss:     0.0001 Validation Accuracy: 0.7486000061035156:.6f\n",
      "Epoch 39, CIFAR-10 Batch 3:Loss:     0.0011 Validation Accuracy: 0.7509999871253967:.6f\n",
      "Epoch 39, CIFAR-10 Batch 4:Loss:     0.0068 Validation Accuracy: 0.7404000163078308:.6f\n",
      "Epoch 39, CIFAR-10 Batch 5:Loss:     0.0005 Validation Accuracy: 0.748199999332428:.6f\n",
      "Epoch 40, CIFAR-10 Batch 1:Loss:     0.0008 Validation Accuracy: 0.7516000270843506:.6f\n",
      "Epoch 40, CIFAR-10 Batch 2:Loss:     0.0004 Validation Accuracy: 0.7476000189781189:.6f\n",
      "Epoch 40, CIFAR-10 Batch 3:Loss:     0.0018 Validation Accuracy: 0.7390000224113464:.6f\n",
      "Epoch 40, CIFAR-10 Batch 4:Loss:     0.0004 Validation Accuracy: 0.7432000041007996:.6f\n",
      "Epoch 40, CIFAR-10 Batch 5:Loss:     0.0009 Validation Accuracy: 0.7404000163078308:.6f\n",
      "Epoch 41, CIFAR-10 Batch 1:Loss:     0.0043 Validation Accuracy: 0.7329999804496765:.6f\n",
      "Epoch 41, CIFAR-10 Batch 2:Loss:     0.0028 Validation Accuracy: 0.7418000102043152:.6f\n",
      "Epoch 41, CIFAR-10 Batch 3:Loss:     0.0009 Validation Accuracy: 0.7508000135421753:.6f\n",
      "Epoch 41, CIFAR-10 Batch 4:Loss:     0.0244 Validation Accuracy: 0.7572000026702881:.6f\n",
      "Epoch 41, CIFAR-10 Batch 5:Loss:     0.0004 Validation Accuracy: 0.751800000667572:.6f\n",
      "Epoch 42, CIFAR-10 Batch 1:Loss:     0.0090 Validation Accuracy: 0.7373999953269958:.6f\n",
      "Epoch 42, CIFAR-10 Batch 2:Loss:     0.0001 Validation Accuracy: 0.7454000115394592:.6f\n",
      "Epoch 42, CIFAR-10 Batch 3:Loss:     0.0096 Validation Accuracy: 0.7369999885559082:.6f\n",
      "Epoch 42, CIFAR-10 Batch 4:Loss:     0.0024 Validation Accuracy: 0.7580000162124634:.6f\n",
      "Epoch 42, CIFAR-10 Batch 5:Loss:     0.0036 Validation Accuracy: 0.7523999810218811:.6f\n",
      "Epoch 43, CIFAR-10 Batch 1:Loss:     0.0007 Validation Accuracy: 0.7505999803543091:.6f\n",
      "Epoch 43, CIFAR-10 Batch 2:Loss:     0.0012 Validation Accuracy: 0.7364000082015991:.6f\n",
      "Epoch 43, CIFAR-10 Batch 3:Loss:     0.0008 Validation Accuracy: 0.7594000101089478:.6f\n",
      "Epoch 43, CIFAR-10 Batch 4:Loss:     0.0004 Validation Accuracy: 0.7429999709129333:.6f\n",
      "Epoch 43, CIFAR-10 Batch 5:Loss:     0.0022 Validation Accuracy: 0.7504000067710876:.6f\n",
      "Epoch 44, CIFAR-10 Batch 1:Loss:     0.0038 Validation Accuracy: 0.7544000148773193:.6f\n",
      "Epoch 44, CIFAR-10 Batch 2:Loss:     0.0001 Validation Accuracy: 0.7487999796867371:.6f\n",
      "Epoch 44, CIFAR-10 Batch 3:Loss:     0.0012 Validation Accuracy: 0.7531999945640564:.6f\n",
      "Epoch 44, CIFAR-10 Batch 4:Loss:     0.0012 Validation Accuracy: 0.7585999965667725:.6f\n",
      "Epoch 44, CIFAR-10 Batch 5:Loss:     0.0014 Validation Accuracy: 0.7473999857902527:.6f\n",
      "Epoch 45, CIFAR-10 Batch 1:Loss:     0.0003 Validation Accuracy: 0.7559999823570251:.6f\n",
      "Epoch 45, CIFAR-10 Batch 2:Loss:     0.0021 Validation Accuracy: 0.7351999878883362:.6f\n",
      "Epoch 45, CIFAR-10 Batch 3:Loss:     0.0004 Validation Accuracy: 0.7422000169754028:.6f\n",
      "Epoch 45, CIFAR-10 Batch 4:Loss:     0.0019 Validation Accuracy: 0.7562000155448914:.6f\n",
      "Epoch 45, CIFAR-10 Batch 5:Loss:     0.0054 Validation Accuracy: 0.75:.6f\n",
      "Epoch 46, CIFAR-10 Batch 1:Loss:     0.0049 Validation Accuracy: 0.7436000108718872:.6f\n",
      "Epoch 46, CIFAR-10 Batch 2:Loss:     0.0008 Validation Accuracy: 0.734000027179718:.6f\n",
      "Epoch 46, CIFAR-10 Batch 3:Loss:     0.0038 Validation Accuracy: 0.7365999817848206:.6f\n",
      "Epoch 46, CIFAR-10 Batch 4:Loss:     0.0006 Validation Accuracy: 0.7444000244140625:.6f\n",
      "Epoch 46, CIFAR-10 Batch 5:Loss:     0.0009 Validation Accuracy: 0.7531999945640564:.6f\n",
      "Epoch 47, CIFAR-10 Batch 1:Loss:     0.0046 Validation Accuracy: 0.727400004863739:.6f\n",
      "Epoch 47, CIFAR-10 Batch 2:Loss:     0.0091 Validation Accuracy: 0.7422000169754028:.6f\n",
      "Epoch 47, CIFAR-10 Batch 3:Loss:     0.0004 Validation Accuracy: 0.7562000155448914:.6f\n",
      "Epoch 47, CIFAR-10 Batch 4:Loss:     0.0059 Validation Accuracy: 0.7509999871253967:.6f\n",
      "Epoch 47, CIFAR-10 Batch 5:Loss:     0.0001 Validation Accuracy: 0.7591999769210815:.6f\n",
      "Epoch 48, CIFAR-10 Batch 1:Loss:     0.0038 Validation Accuracy: 0.7387999892234802:.6f\n",
      "Epoch 48, CIFAR-10 Batch 2:Loss:     0.0003 Validation Accuracy: 0.7465999722480774:.6f\n",
      "Epoch 48, CIFAR-10 Batch 3:Loss:     0.0004 Validation Accuracy: 0.7465999722480774:.6f\n",
      "Epoch 48, CIFAR-10 Batch 4:Loss:     0.0020 Validation Accuracy: 0.7400000095367432:.6f\n",
      "Epoch 48, CIFAR-10 Batch 5:Loss:     0.0018 Validation Accuracy: 0.7455999851226807:.6f\n",
      "Epoch 49, CIFAR-10 Batch 1:Loss:     0.0002 Validation Accuracy: 0.7513999938964844:.6f\n",
      "Epoch 49, CIFAR-10 Batch 2:Loss:     0.0004 Validation Accuracy: 0.7567999958992004:.6f\n",
      "Epoch 49, CIFAR-10 Batch 3:Loss:     0.0003 Validation Accuracy: 0.7534000277519226:.6f\n",
      "Epoch 49, CIFAR-10 Batch 4:Loss:     0.0010 Validation Accuracy: 0.7490000128746033:.6f\n",
      "Epoch 49, CIFAR-10 Batch 5:Loss:     0.0097 Validation Accuracy: 0.7365999817848206:.6f\n",
      "Epoch 50, CIFAR-10 Batch 1:Loss:     0.0011 Validation Accuracy: 0.7445999979972839:.6f\n",
      "Epoch 50, CIFAR-10 Batch 2:Loss:     0.0047 Validation Accuracy: 0.7408000230789185:.6f\n",
      "Epoch 50, CIFAR-10 Batch 3:Loss:     0.0011 Validation Accuracy: 0.7432000041007996:.6f\n",
      "Epoch 50, CIFAR-10 Batch 4:Loss:     0.0021 Validation Accuracy: 0.7459999918937683:.6f\n",
      "Epoch 50, CIFAR-10 Batch 5:Loss:     0.0002 Validation Accuracy: 0.7437999844551086:.6f\n"
     ]
    }
   ],
   "source": [
    "save_model_path = './image_classification'\n",
    "\n",
    "print('Training!...')\n",
    "\n",
    "with tf.Session() as sess:\n",
    "    # Initializing the variables\n",
    "    sess.run(tf.global_variables_initializer())\n",
    "    \n",
    "    # Training cycle\n",
    "    for epoch in range(epochs):\n",
    "        # Loop over all batches\n",
    "        nbatch = 5\n",
    "        for batchindex in range(1, nbatch + 1):\n",
    "            for batchfeatures, batchlbls in load_preproc_train_batch(batchindex, batch_size):\n",
    "                train_nn(sess, optimizer, keep_probability, batchfeatures, batchlbls)\n",
    "                \n",
    "            print('Epoch {:>2}, CIFAR-10 Batch {}:'.format(epoch + 1, batchindex), end='')\n",
    "            print_stats(sess, batchfeatures, batchlbls, cost, accuracy)\n",
    "            \n",
    "    # Save Model\n",
    "    saver = tf.train.Saver()\n",
    "    save_path = saver.save(sess, save_model_path)"
   ]
  },
  {
   "cell_type": "markdown",
   "metadata": {},
   "source": [
    "### Checkpoint\n",
    "\n",
    "The model has been saved to disk."
   ]
  },
  {
   "cell_type": "markdown",
   "metadata": {},
   "source": [
    "### Test Model"
   ]
  },
  {
   "cell_type": "code",
   "execution_count": null,
   "metadata": {},
   "outputs": [],
   "source": [
    "import pickle\n",
    "import numpy as np\n",
    "import matplotlib.pyplot as plt\n",
    "from sklearn.preprocessing import LabelBinarizer"
   ]
  },
  {
   "cell_type": "code",
   "execution_count": null,
   "metadata": {},
   "outputs": [],
   "source": [
    "def batch_features_lbl(features, lbls, batch_size):\n",
    "    '''\n",
    "    Split features and labels into batches\n",
    "    '''\n",
    "    for start in range(0, len(features), batch_size):\n",
    "        end = min(start + batch_size, len(features))\n",
    "        yield features[start:end], lbls[start:end]"
   ]
  },
  {
   "cell_type": "code",
   "execution_count": null,
   "metadata": {},
   "outputs": [],
   "source": [
    "def display_img_predict(features, lbls, predictions, top_n_predictions):\n",
    "    nclasses = 10\n",
    "    lblbinarizer = LabelBinarizer()\n",
    "    lblbinarizer.fit(range(nclasses))\n",
    "    lblids = lblbinarizer.inverse_transform(np.array(lbls))\n",
    "    \n",
    "    fig, axies = plt.subplots(nrows=top_n_predictions, ncols=2, figsize=(20, 10))\n",
    "    fig.tight_layout()\n",
    "    fig.suptitle('Softmax Predictions', fontsize=20, y=1.1)\n",
    "    \n",
    "    n_predictions = 3\n",
    "    margin = .05\n",
    "    ind = np.arange(n_predictions)\n",
    "    width = (1. - 2. * margin) / n_predictions\n",
    "    \n",
    "    for image_i, (feature, lblid, pred_indices, pred_values) in enumerate(zip(features, lblids, predictions.indices, predictions.values)):\n",
    "        if (image_i < top_n_predictions):\n",
    "            pred_names = [lblnames[pred_i] for pred_i in pred_indices]\n",
    "            correct_name = lblnames[lblid]\n",
    "            \n",
    "            axies[image_i][0].imshow((feature * 255).astype(np.int32, copy=False))\n",
    "            axies[image_i][0].set_title(correct_name)\n",
    "            axies[image_i][0].set_axis_off()\n",
    "            \n",
    "            axies[image_i][1].barh(ind + margin, pred_values[:3], width)\n",
    "            axies[image_i][1].set_yticks(ind + margin)\n",
    "            axies[image_i][1].set_yticklabels(pred_names[::1])\n",
    "            axies[image_i][1].set_xticks([0, .5, 1.])\n",
    "\n",
    "        "
   ]
  },
  {
   "cell_type": "code",
   "execution_count": null,
   "metadata": {},
   "outputs": [],
   "source": [
    "%matplotlib inline\n",
    "%config InlineBackend.figure_format = 'retina'\n",
    "\n",
    "import tensorflow as tf\n",
    "import pickle\n",
    "import random"
   ]
  },
  {
   "cell_type": "code",
   "execution_count": null,
   "metadata": {},
   "outputs": [],
   "source": [
    "save_model_path = './image_classification'\n",
    "batch_size = 64\n",
    "nsamples =10\n",
    "top_n_predictions = 5"
   ]
  },
  {
   "cell_type": "code",
   "execution_count": null,
   "metadata": {},
   "outputs": [],
   "source": [
    "def testmodel():\n",
    "    testfeatures, testlbls = pickle.load(open('preprocess.training.p', mode='rb'))\n",
    "    loaded_graph = tf.Graph()\n",
    "    \n",
    "    with tf.Session(graph=loaded_graph) as sess:\n",
    "        \n",
    "        # Load model\n",
    "        loader = tf.train.import_meta_graph(save_model_path + '.meta')\n",
    "        loader.restore(sess, save_model_path)\n",
    "        \n",
    "        # Get Tensors from Loaded model\n",
    "        loadedx = loaded_graph.get_tensor_by_name('output_x:0')\n",
    "        loadedy = loaded_graph.get_tensor_by_name('output_y:0')\n",
    "        loaded_keep_prob = loaded_graph.get_tensor_by_name('keep_prob:0')\n",
    "        loaded_logits = loaded_graph.get_tensor_by_name('logits:0')\n",
    "        loaded_acc = loaded_graph.get_tensor_by_name('accuracy:0')\n",
    "        \n",
    "        # Get accuracy in batches for memory limitations\n",
    "        test_batch_acc_total = 0\n",
    "        test_batch_count = 0\n",
    "        \n",
    "        for train_feature_batch, train_label_batch in batch_features_lbl(testfeatures, testlbls, batch_size):\n",
    "            test_batch_acc_total += sess.run(\n",
    "                loaded_acc,\n",
    "                feed_dict={loadedx: train_feature_batch,\n",
    "                          loadedy: train_label_batch,\n",
    "                           loaded_keep_prob: 1.\n",
    "                          })\n",
    "            test_batch_count += 1\n",
    "            \n",
    "        print('Testing Accuracy: {}\\n'.format(test_batch_acc_total / test_batch_count))\n",
    "        \n",
    "        # Print Random Samples\n",
    "        random_test_features, random_test_labels = tuple(zip(*random.sample(list(zip(testfeatures, testlbls)), nsamples)))\n",
    "        random_test_predictions = sess.run(\n",
    "            tf.nn.top_k(tf.nn.softmax(loaded_logits), top_n_predictions),\n",
    "            feed_dict = {loadedx: random_test_features,\n",
    "                        loadedy: random_test_labels,\n",
    "                        loaded_keep_prob: 1.})\n",
    "        display_img_predict(random_test_features, random_test_labels, random_test_predictions, top_n_predictions)\n",
    "        \n",
    "testmodel()\n",
    "            \n",
    "            \n",
    "            \n",
    "            \n",
    "            \n",
    "            "
   ]
  },
  {
   "cell_type": "code",
   "execution_count": null,
   "metadata": {},
   "outputs": [],
   "source": []
  },
  {
   "cell_type": "code",
   "execution_count": null,
   "metadata": {},
   "outputs": [],
   "source": []
  },
  {
   "cell_type": "code",
   "execution_count": null,
   "metadata": {},
   "outputs": [],
   "source": []
  },
  {
   "cell_type": "code",
   "execution_count": null,
   "metadata": {},
   "outputs": [],
   "source": []
  },
  {
   "cell_type": "code",
   "execution_count": null,
   "metadata": {},
   "outputs": [],
   "source": []
  },
  {
   "cell_type": "code",
   "execution_count": null,
   "metadata": {},
   "outputs": [],
   "source": []
  },
  {
   "cell_type": "code",
   "execution_count": null,
   "metadata": {},
   "outputs": [],
   "source": []
  },
  {
   "cell_type": "code",
   "execution_count": null,
   "metadata": {},
   "outputs": [],
   "source": []
  },
  {
   "cell_type": "code",
   "execution_count": null,
   "metadata": {},
   "outputs": [],
   "source": []
  },
  {
   "cell_type": "code",
   "execution_count": null,
   "metadata": {},
   "outputs": [],
   "source": []
  },
  {
   "cell_type": "code",
   "execution_count": null,
   "metadata": {},
   "outputs": [],
   "source": []
  },
  {
   "cell_type": "code",
   "execution_count": null,
   "metadata": {},
   "outputs": [],
   "source": []
  },
  {
   "cell_type": "code",
   "execution_count": null,
   "metadata": {},
   "outputs": [],
   "source": []
  },
  {
   "cell_type": "code",
   "execution_count": null,
   "metadata": {},
   "outputs": [],
   "source": []
  },
  {
   "cell_type": "code",
   "execution_count": null,
   "metadata": {},
   "outputs": [],
   "source": []
  },
  {
   "cell_type": "code",
   "execution_count": null,
   "metadata": {},
   "outputs": [],
   "source": []
  },
  {
   "cell_type": "code",
   "execution_count": null,
   "metadata": {},
   "outputs": [],
   "source": []
  },
  {
   "cell_type": "code",
   "execution_count": null,
   "metadata": {},
   "outputs": [],
   "source": []
  },
  {
   "cell_type": "code",
   "execution_count": null,
   "metadata": {},
   "outputs": [],
   "source": []
  },
  {
   "cell_type": "code",
   "execution_count": null,
   "metadata": {},
   "outputs": [],
   "source": []
  },
  {
   "cell_type": "code",
   "execution_count": null,
   "metadata": {},
   "outputs": [],
   "source": []
  },
  {
   "cell_type": "code",
   "execution_count": null,
   "metadata": {},
   "outputs": [],
   "source": []
  },
  {
   "cell_type": "code",
   "execution_count": null,
   "metadata": {},
   "outputs": [],
   "source": []
  },
  {
   "cell_type": "code",
   "execution_count": null,
   "metadata": {},
   "outputs": [],
   "source": []
  },
  {
   "cell_type": "code",
   "execution_count": null,
   "metadata": {},
   "outputs": [],
   "source": []
  },
  {
   "cell_type": "code",
   "execution_count": null,
   "metadata": {},
   "outputs": [],
   "source": []
  },
  {
   "cell_type": "code",
   "execution_count": null,
   "metadata": {},
   "outputs": [],
   "source": []
  },
  {
   "cell_type": "code",
   "execution_count": null,
   "metadata": {},
   "outputs": [],
   "source": []
  },
  {
   "cell_type": "code",
   "execution_count": null,
   "metadata": {},
   "outputs": [],
   "source": []
  },
  {
   "cell_type": "code",
   "execution_count": null,
   "metadata": {},
   "outputs": [],
   "source": []
  },
  {
   "cell_type": "code",
   "execution_count": null,
   "metadata": {},
   "outputs": [],
   "source": []
  },
  {
   "cell_type": "code",
   "execution_count": null,
   "metadata": {},
   "outputs": [],
   "source": []
  },
  {
   "cell_type": "code",
   "execution_count": null,
   "metadata": {},
   "outputs": [],
   "source": []
  },
  {
   "cell_type": "code",
   "execution_count": null,
   "metadata": {},
   "outputs": [],
   "source": []
  },
  {
   "cell_type": "code",
   "execution_count": null,
   "metadata": {},
   "outputs": [],
   "source": []
  },
  {
   "cell_type": "code",
   "execution_count": null,
   "metadata": {},
   "outputs": [],
   "source": []
  },
  {
   "cell_type": "code",
   "execution_count": null,
   "metadata": {},
   "outputs": [],
   "source": []
  },
  {
   "cell_type": "code",
   "execution_count": null,
   "metadata": {},
   "outputs": [],
   "source": []
  }
 ],
 "metadata": {
  "kernelspec": {
   "display_name": "Python 3",
   "language": "python",
   "name": "python3"
  },
  "language_info": {
   "codemirror_mode": {
    "name": "ipython",
    "version": 3
   },
   "file_extension": ".py",
   "mimetype": "text/x-python",
   "name": "python",
   "nbconvert_exporter": "python",
   "pygments_lexer": "ipython3",
   "version": "3.7.3"
  }
 },
 "nbformat": 4,
 "nbformat_minor": 2
}
