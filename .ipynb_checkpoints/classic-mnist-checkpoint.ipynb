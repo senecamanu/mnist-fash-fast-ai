{
 "cells": [
  {
   "cell_type": "code",
   "execution_count": 1,
   "metadata": {},
   "outputs": [],
   "source": [
    "!activate tf_gpu"
   ]
  },
  {
   "cell_type": "code",
   "execution_count": 2,
   "metadata": {},
   "outputs": [],
   "source": [
    "import tensorflow as tf"
   ]
  },
  {
   "cell_type": "code",
   "execution_count": 3,
   "metadata": {},
   "outputs": [],
   "source": [
    "mnist = tf.keras.datasets.mnist # of size 28x28"
   ]
  },
  {
   "cell_type": "code",
   "execution_count": 4,
   "metadata": {},
   "outputs": [
    {
     "name": "stdout",
     "output_type": "stream",
     "text": [
      "Downloading data from https://storage.googleapis.com/tensorflow/tf-keras-datasets/mnist.npz\n",
      "11493376/11490434 [==============================] - 0s 0us/step\n"
     ]
    }
   ],
   "source": [
    "(xtrain, ytrain), (xtest, ytest) = mnist.load_data()"
   ]
  },
  {
   "cell_type": "code",
   "execution_count": 15,
   "metadata": {},
   "outputs": [
    {
     "data": {
      "image/png": "[encoded data removed]",
      "text/plain": [
       "<Figure size 432x288 with 1 Axes>"
      ]
     },
     "metadata": {
      "needs_background": "light"
     },
     "output_type": "display_data"
    },
    {
     "data": {
      "text/plain": [
       "\"\\n\\n['binary', 'gist_yarg', \\n'gist_gray', 'gray', 'bone', \\n'pink','spring', 'summer', 'autumn', \\n'winter', 'cool', 'Wistia','hot', 'afmhot', \\n'gist_heat', 'copper']\\n\\n\""
      ]
     },
     "execution_count": 15,
     "metadata": {},
     "output_type": "execute_result"
    }
   ],
   "source": [
    "import matplotlib.pyplot as plt\n",
    "\n",
    "plt.show(plt.imshow(xtrain[0], cmap='binary')) # cmap can be a lot more things.\n",
    "# for plotting colors, it's listed:\n",
    "'''\n",
    "\n",
    "['binary', 'gist_yarg', \n",
    "'gist_gray', 'gray', 'bone', \n",
    "'pink','spring', 'summer', 'autumn', \n",
    "'winter', 'cool', 'Wistia','hot', 'afmhot', \n",
    "'gist_heat', 'copper']\n",
    "\n",
    "'''"
   ]
  },
  {
   "cell_type": "code",
   "execution_count": 26,
   "metadata": {},
   "outputs": [],
   "source": [
    "xtrain = tf.keras.utils.normalize(xtrain, axis=1)\n",
    "xtest = tf.keras.utils.normalize(xtest, axis=1)"
   ]
  },
  {
   "cell_type": "code",
   "execution_count": 27,
   "metadata": {},
   "outputs": [
    {
     "data": {
      "image/png": "[encoded data removed]",
      "text/plain": [
       "<Figure size 432x288 with 1 Axes>"
      ]
     },
     "metadata": {
      "needs_background": "light"
     },
     "output_type": "display_data"
    }
   ],
   "source": [
    "plt.show(plt.imshow(xtrain[0], cmap='binary'))\n",
    "\n",
    "# as you can see, it's a bit greyed out, because it's flattening to 0-1 for DL purpose"
   ]
  },
  {
   "cell_type": "markdown",
   "metadata": {},
   "source": [
    "### Model"
   ]
  },
  {
   "cell_type": "code",
   "execution_count": 28,
   "metadata": {},
   "outputs": [],
   "source": [
    "model = tf.keras.models.Sequential()"
   ]
  },
  {
   "cell_type": "code",
   "execution_count": 33,
   "metadata": {},
   "outputs": [
    {
     "name": "stdout",
     "output_type": "stream",
     "text": [
      "WARNING:tensorflow:From /root/anaconda3/lib/python3.7/site-packages/tensorflow/python/ops/resource_variable_ops.py:435: colocate_with (from tensorflow.python.framework.ops) is deprecated and will be removed in a future version.\n",
      "Instructions for updating:\n",
      "Colocations handled automatically by placer.\n"
     ]
    }
   ],
   "source": [
    "model.add(tf.keras.layers.Flatten()) # flattens all images\n",
    "model.add(tf.keras.layers.Dense(128, activation='relu'))\n",
    "model.add(tf.keras.layers.Dense(128, activation='relu'))\n",
    "model.add(tf.keras.layers.Dense(10, activation='softmax'))\n",
    "\n",
    "model.compile(optimizer='Adam',\n",
    "             loss='sparse_categorical_crossentropy',\n",
    "             metrics=['accuracy'])"
   ]
  },
  {
   "cell_type": "code",
   "execution_count": 37,
   "metadata": {},
   "outputs": [],
   "source": [
    "sess = tf.Session(config=tf.ConfigProto(log_device_placement=True))"
   ]
  },
  {
   "cell_type": "code",
   "execution_count": 41,
   "metadata": {},
   "outputs": [
    {
     "name": "stdout",
     "output_type": "stream",
     "text": [
      "Epoch 1/10\n",
      "60000/60000 [==============================] - 10s 163us/sample - loss: 0.0584 - acc: 0.9849\n",
      "Epoch 2/10\n",
      "60000/60000 [==============================] - 10s 163us/sample - loss: 0.0510 - acc: 0.9859\n",
      "Epoch 3/10\n",
      "60000/60000 [==============================] - 10s 163us/sample - loss: 0.0464 - acc: 0.9876\n",
      "Epoch 4/10\n",
      "60000/60000 [==============================] - 10s 163us/sample - loss: 0.0410 - acc: 0.9892\n",
      "Epoch 5/10\n",
      "60000/60000 [==============================] - 10s 163us/sample - loss: 0.0372 - acc: 0.9901\n",
      "Epoch 6/10\n",
      "60000/60000 [==============================] - 10s 165us/sample - loss: 0.0368 - acc: 0.9905\n",
      "Epoch 7/10\n",
      "60000/60000 [==============================] - 10s 165us/sample - loss: 0.0318 - acc: 0.9919\n",
      "Epoch 8/10\n",
      "60000/60000 [==============================] - 10s 163us/sample - loss: 0.0299 - acc: 0.9923\n",
      "Epoch 9/10\n",
      "60000/60000 [==============================] - 10s 163us/sample - loss: 0.0278 - acc: 0.9927\n",
      "Epoch 10/10\n",
      "60000/60000 [==============================] - 10s 163us/sample - loss: 0.0241 - acc: 0.9936\n"
     ]
    },
    {
     "data": {
      "text/plain": [
       "<tensorflow.python.keras.callbacks.History at 0x7f8b3023f1d0>"
      ]
     },
     "execution_count": 41,
     "metadata": {},
     "output_type": "execute_result"
    }
   ],
   "source": [
    "model.fit(xtrain, ytrain, epochs=10)"
   ]
  },
  {
   "cell_type": "code",
   "execution_count": 42,
   "metadata": {},
   "outputs": [
    {
     "name": "stdout",
     "output_type": "stream",
     "text": [
      "10000/10000 [==============================] - 1s 54us/sample - loss: 0.1623 - acc: 0.9707\n"
     ]
    }
   ],
   "source": [
    "vloss, vacc = model.evaluate(xtest, ytest)"
   ]
  },
  {
   "cell_type": "code",
   "execution_count": 43,
   "metadata": {},
   "outputs": [
    {
     "name": "stdout",
     "output_type": "stream",
     "text": [
      "0.16225223523443566 0.9707\n"
     ]
    }
   ],
   "source": [
    "print(vloss, vacc)"
   ]
  },
  {
   "cell_type": "code",
   "execution_count": 44,
   "metadata": {},
   "outputs": [
    {
     "data": {
      "image/png": "[encoded data removed]",
      "text/plain": [
       "<Figure size 432x288 with 1 Axes>"
      ]
     },
     "metadata": {
      "needs_background": "light"
     },
     "output_type": "display_data"
    },
    {
     "name": "stdout",
     "output_type": "stream",
     "text": [
      "[[0.         0.         0.         0.         0.         0.\n",
      "  0.         0.         0.         0.         0.         0.\n",
      "  0.         0.         0.         0.         0.         0.\n",
      "  0.         0.         0.         0.         0.         0.\n",
      "  0.         0.         0.         0.        ]\n",
      " [0.         0.         0.         0.         0.         0.\n",
      "  0.         0.         0.         0.         0.         0.\n",
      "  0.         0.         0.         0.         0.         0.\n",
      "  0.         0.         0.         0.         0.         0.\n",
      "  0.         0.         0.         0.        ]\n",
      " [0.         0.         0.         0.         0.         0.\n",
      "  0.         0.         0.         0.         0.         0.\n",
      "  0.         0.         0.         0.         0.         0.\n",
      "  0.         0.         0.         0.         0.         0.\n",
      "  0.         0.         0.         0.        ]\n",
      " [0.         0.         0.         0.         0.         0.\n",
      "  0.         0.         0.         0.         0.         0.\n",
      "  0.         0.         0.         0.         0.         0.\n",
      "  0.         0.         0.         0.         0.         0.\n",
      "  0.         0.         0.         0.        ]\n",
      " [0.         0.         0.         0.         0.         0.\n",
      "  0.         0.         0.         0.         0.         0.\n",
      "  0.         0.         0.         0.         0.         0.\n",
      "  0.         0.         0.         0.         0.         0.\n",
      "  0.         0.         0.         0.        ]\n",
      " [0.         0.         0.         0.         0.         0.\n",
      "  0.         0.         0.         0.         0.         0.\n",
      "  0.00170736 0.01063477 0.0141536  0.01433    0.09585781 0.09644434\n",
      "  0.1564545  0.03067724 0.50405872 0.73498637 0.79631276 0.90511819\n",
      "  0.         0.         0.         0.        ]\n",
      " [0.         0.         0.         0.         0.         0.\n",
      "  0.         0.         0.04362855 0.04481277 0.10990742 0.11707046\n",
      "  0.09018271 0.13933081 0.1854325  0.18774353 0.17941071 0.16723581\n",
      "  0.18750094 0.18916567 0.71608484 0.65016768 0.58599275 0.42516005\n",
      "  0.         0.         0.         0.        ]\n",
      " [0.         0.         0.         0.         0.         0.\n",
      "  0.         0.13346857 0.44297671 0.4030642  0.3785943  0.24615094\n",
      "  0.17177077 0.17832061 0.23732323 0.24028096 0.22961632 0.21234247\n",
      "  0.0991878  0.11542028 0.29703812 0.19255395 0.14999494 0.\n",
      "  0.         0.         0.         0.        ]\n",
      " [0.         0.         0.         0.         0.         0.\n",
      "  0.         0.05502498 0.45745935 0.45235425 0.42489197 0.27625233\n",
      "  0.19277634 0.20012714 0.20844399 0.19398792 0.25158436 0.22881508\n",
      "  0.         0.         0.         0.         0.         0.\n",
      "  0.         0.         0.         0.        ]\n",
      " [0.         0.         0.         0.         0.         0.\n",
      "  0.         0.         0.26957837 0.44995535 0.2898868  0.44564867\n",
      "  0.31098568 0.26159293 0.01868115 0.         0.07065482 0.23587124\n",
      "  0.         0.         0.         0.         0.         0.\n",
      "  0.         0.         0.         0.        ]\n",
      " [0.         0.         0.         0.         0.         0.\n",
      "  0.         0.         0.         0.06814283 0.00457185 0.45776243\n",
      "  0.52479262 0.19380366 0.         0.         0.         0.\n",
      "  0.         0.         0.         0.         0.         0.\n",
      "  0.         0.         0.         0.        ]\n",
      " [0.         0.         0.         0.         0.         0.\n",
      "  0.         0.         0.         0.         0.         0.37567776\n",
      "  0.47716544 0.37200976 0.00521158 0.         0.         0.\n",
      "  0.         0.         0.         0.         0.         0.\n",
      "  0.         0.         0.         0.        ]\n",
      " [0.         0.         0.         0.         0.         0.\n",
      "  0.         0.         0.         0.         0.         0.03229502\n",
      "  0.38926396 0.53810048 0.1981434  0.         0.         0.\n",
      "  0.         0.         0.         0.         0.         0.\n",
      "  0.         0.         0.         0.        ]\n",
      " [0.         0.         0.         0.         0.         0.\n",
      "  0.         0.         0.         0.         0.         0.\n",
      "  0.05714069 0.40845736 0.50751737 0.36539911 0.23569733 0.00203429\n",
      "  0.         0.         0.         0.         0.         0.\n",
      "  0.         0.         0.         0.        ]\n",
      " [0.         0.         0.         0.         0.         0.\n",
      "  0.         0.         0.         0.         0.         0.\n",
      "  0.         0.11325068 0.44658666 0.47664401 0.45548863 0.19970314\n",
      "  0.05289201 0.         0.         0.         0.         0.\n",
      "  0.         0.         0.         0.        ]\n",
      " [0.         0.         0.         0.         0.         0.\n",
      "  0.         0.         0.         0.         0.         0.\n",
      "  0.         0.         0.08880074 0.37161749 0.48304447 0.45026483\n",
      "  0.33655104 0.07994962 0.         0.         0.         0.\n",
      "  0.         0.         0.         0.        ]\n",
      " [0.         0.         0.         0.         0.         0.\n",
      "  0.         0.         0.         0.         0.         0.\n",
      "  0.         0.         0.         0.02868646 0.15933945 0.40245915\n",
      "  0.50939416 0.49689885 0.         0.         0.         0.\n",
      "  0.         0.         0.         0.        ]\n",
      " [0.         0.         0.         0.         0.         0.\n",
      "  0.         0.         0.         0.         0.         0.\n",
      "  0.         0.         0.         0.         0.         0.34571763\n",
      "  0.44284819 0.5752103  0.38048484 0.         0.         0.\n",
      "  0.         0.         0.         0.        ]\n",
      " [0.         0.         0.         0.         0.         0.\n",
      "  0.         0.         0.         0.         0.         0.\n",
      "  0.         0.         0.07219825 0.20658146 0.27789611 0.35812349\n",
      "  0.45148672 0.48751474 0.01212209 0.         0.         0.\n",
      "  0.         0.         0.         0.        ]\n",
      " [0.         0.         0.         0.         0.         0.\n",
      "  0.         0.         0.         0.         0.         0.\n",
      "  0.03699598 0.14574844 0.30013482 0.33572257 0.32082184 0.29905071\n",
      "  0.37254308 0.35793225 0.         0.         0.         0.\n",
      "  0.         0.         0.         0.        ]\n",
      " [0.         0.         0.         0.         0.         0.\n",
      "  0.         0.         0.         0.         0.05501155 0.16989279\n",
      "  0.22983181 0.27314336 0.36352088 0.3680514  0.35171579 0.26046437\n",
      "  0.12742629 0.         0.         0.         0.         0.\n",
      "  0.         0.         0.         0.        ]\n",
      " [0.         0.         0.         0.         0.         0.\n",
      "  0.         0.         0.06382117 0.15675834 0.47518876 0.36697333\n",
      "  0.2560839  0.2658487  0.35381257 0.28034772 0.1095974  0.00252247\n",
      "  0.         0.         0.         0.         0.         0.\n",
      "  0.         0.         0.         0.        ]\n",
      " [0.         0.         0.         0.         0.         0.\n",
      "  0.07895548 0.57166633 0.50027827 0.49469533 0.46466253 0.30210999\n",
      "  0.21082051 0.16868607 0.0921029  0.01049071 0.         0.\n",
      "  0.         0.         0.         0.         0.         0.\n",
      "  0.         0.         0.         0.        ]\n",
      " [0.         0.         0.         0.         0.42201446 0.61626981\n",
      "  0.71463381 0.60972274 0.41663276 0.35661793 0.33496777 0.21003891\n",
      "  0.07989311 0.00685966 0.         0.         0.         0.\n",
      "  0.         0.         0.         0.         0.         0.\n",
      "  0.         0.         0.         0.        ]\n",
      " [0.         0.         0.         0.         0.9065891  0.78753509\n",
      "  0.69502845 0.52971142 0.3033023  0.16531923 0.15183202 0.01196567\n",
      "  0.         0.         0.         0.         0.         0.\n",
      "  0.         0.         0.         0.         0.         0.\n",
      "  0.         0.         0.         0.        ]\n",
      " [0.         0.         0.         0.         0.         0.\n",
      "  0.         0.         0.         0.         0.         0.\n",
      "  0.         0.         0.         0.         0.         0.\n",
      "  0.         0.         0.         0.         0.         0.\n",
      "  0.         0.         0.         0.        ]\n",
      " [0.         0.         0.         0.         0.         0.\n",
      "  0.         0.         0.         0.         0.         0.\n",
      "  0.         0.         0.         0.         0.         0.\n",
      "  0.         0.         0.         0.         0.         0.\n",
      "  0.         0.         0.         0.        ]\n",
      " [0.         0.         0.         0.         0.         0.\n",
      "  0.         0.         0.         0.         0.         0.\n",
      "  0.         0.         0.         0.         0.         0.\n",
      "  0.         0.         0.         0.         0.         0.\n",
      "  0.         0.         0.         0.        ]]\n"
     ]
    }
   ],
   "source": [
    "import matplotlib.pyplot as plt\n",
    "\n",
    "plt.imshow(xtrain[0], cmap='binary')\n",
    "plt.show()\n",
    "print(xtrain[0])"
   ]
  },
  {
   "cell_type": "markdown",
   "metadata": {},
   "source": [
    "### Saving our model"
   ]
  },
  {
   "cell_type": "code",
   "execution_count": 45,
   "metadata": {},
   "outputs": [],
   "source": [
    "model.save('97-acc.mdl')"
   ]
  },
  {
   "cell_type": "code",
   "execution_count": 48,
   "metadata": {},
   "outputs": [
    {
     "name": "stdout",
     "output_type": "stream",
     "text": [
      "WARNING:tensorflow:Sequential models without an `input_shape` passed to the first layer cannot reload their optimizer state. As a result, your model isstarting with a freshly initialized optimizer.\n",
      "[[3.37368888e-08 4.93490415e-06 5.64408856e-06 ... 9.99702394e-01\n",
      "  9.65850155e-09 1.42425779e-04]\n",
      " [3.47154469e-06 3.37024598e-04 9.99464691e-01 ... 1.49248925e-04\n",
      "  4.78957600e-06 8.10989886e-10]\n",
      " [1.19190383e-13 9.99937415e-01 5.42977091e-07 ... 2.10037138e-06\n",
      "  1.58068269e-05 2.87310240e-06]\n",
      " ...\n",
      " [6.17021760e-06 8.42311351e-07 8.58912517e-06 ... 1.19311226e-05\n",
      "  3.06993661e-06 4.43688732e-05]\n",
      " [1.67499707e-06 8.54439918e-07 1.11152429e-08 ... 6.07809358e-09\n",
      "  2.04417597e-06 1.94835520e-05]\n",
      " [1.00717974e-04 2.42585884e-07 2.54050428e-05 ... 2.27868314e-11\n",
      "  2.51856873e-05 1.23321034e-10]]\n"
     ]
    }
   ],
   "source": [
    "loaded_model = tf.keras.models.load_model('97-acc.mdl')\n",
    "predictions = loaded_model.predict(xtest)\n",
    "print(predictions)"
   ]
  },
  {
   "cell_type": "markdown",
   "metadata": {},
   "source": [
    "### Showing predictions"
   ]
  },
  {
   "cell_type": "code",
   "execution_count": 50,
   "metadata": {},
   "outputs": [
    {
     "name": "stdout",
     "output_type": "stream",
     "text": [
      "7\n"
     ]
    },
    {
     "data": {
      "image/png": "[encoded data removed]",
      "text/plain": [
       "<Figure size 432x288 with 1 Axes>"
      ]
     },
     "metadata": {
      "needs_background": "light"
     },
     "output_type": "display_data"
    }
   ],
   "source": [
    "import numpy as np\n",
    "print(np.argmax(predictions[0])) # this is the predicted number\n",
    "plt.show(plt.imshow(xtest[0]))"
   ]
  },
  {
   "cell_type": "markdown",
   "metadata": {},
   "source": [
    "### Voila!"
   ]
  },
  {
   "cell_type": "code",
   "execution_count": null,
   "metadata": {},
   "outputs": [],
   "source": []
  }
 ],
 "metadata": {
  "kernelspec": {
   "display_name": "Python 3",
   "language": "python",
   "name": "python3"
  },
  "language_info": {
   "codemirror_mode": {
    "name": "ipython",
    "version": 3
   },
   "file_extension": ".py",
   "mimetype": "text/x-python",
   "name": "python",
   "nbconvert_exporter": "python",
   "pygments_lexer": "ipython3",
   "version": "3.7.3"
  }
 },
 "nbformat": 4,
 "nbformat_minor": 2
}
